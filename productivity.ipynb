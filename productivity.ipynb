{
 "cells": [
  {
   "cell_type": "code",
   "execution_count": 1,
   "id": "56e9a6cf",
   "metadata": {},
   "outputs": [],
   "source": [
    "import numpy as np\n",
    "import pandas as pd\n",
    "import matplotlib.pyplot as plt\n",
    "import seaborn as sns\n",
    "from sklearn.model_selection import train_test_split\n",
    "from sklearn.model_selection import cross_val_score\n",
    "from sklearn.metrics import accuracy_score\n",
    "from sklearn import metrics"
   ]
  },
  {
   "cell_type": "code",
   "execution_count": 2,
   "id": "04438ab8",
   "metadata": {},
   "outputs": [],
   "source": [
    "from sklearn.linear_model import LinearRegression\n",
    "from sklearn.linear_model import Lasso\n",
    "from sklearn.linear_model import LogisticRegression\n",
    "from sklearn.svm import SVR \n",
    "from sklearn.neighbors import KNeighborsClassifier\n",
    "from sklearn.ensemble import RandomForestRegressor\n",
    "from sklearn.tree import DecisionTreeRegressor"
   ]
  },
  {
   "cell_type": "code",
   "execution_count": 3,
   "id": "ad97e3f5",
   "metadata": {},
   "outputs": [],
   "source": [
    "# loading the disbetes dataset to a pandas DataFrame\n",
    "dset = pd.read_csv('Telecom_productivity.csv')"
   ]
  },
  {
   "cell_type": "code",
   "execution_count": 4,
   "id": "52b94737",
   "metadata": {},
   "outputs": [
    {
     "data": {
      "text/html": [
       "<div>\n",
       "<style scoped>\n",
       "    .dataframe tbody tr th:only-of-type {\n",
       "        vertical-align: middle;\n",
       "    }\n",
       "\n",
       "    .dataframe tbody tr th {\n",
       "        vertical-align: top;\n",
       "    }\n",
       "\n",
       "    .dataframe thead th {\n",
       "        text-align: right;\n",
       "    }\n",
       "</style>\n",
       "<table border=\"1\" class=\"dataframe\">\n",
       "  <thead>\n",
       "    <tr style=\"text-align: right;\">\n",
       "      <th></th>\n",
       "      <th>date</th>\n",
       "      <th>quarter</th>\n",
       "      <th>day</th>\n",
       "      <th>targeted_productivity</th>\n",
       "      <th>standard_minute_value</th>\n",
       "      <th>work_in_progress</th>\n",
       "      <th>overall_using_times</th>\n",
       "      <th>incentive_package_users</th>\n",
       "      <th>idle_time</th>\n",
       "      <th>idle_men</th>\n",
       "      <th>no_of_updated</th>\n",
       "      <th>actual_productivity</th>\n",
       "    </tr>\n",
       "  </thead>\n",
       "  <tbody>\n",
       "    <tr>\n",
       "      <th>0</th>\n",
       "      <td>01/01/2015</td>\n",
       "      <td>Quarter1</td>\n",
       "      <td>Thursday</td>\n",
       "      <td>0.80</td>\n",
       "      <td>26.16</td>\n",
       "      <td>1108.0</td>\n",
       "      <td>7080</td>\n",
       "      <td>98</td>\n",
       "      <td>0.0</td>\n",
       "      <td>0</td>\n",
       "      <td>0</td>\n",
       "      <td>0.940725</td>\n",
       "    </tr>\n",
       "    <tr>\n",
       "      <th>1</th>\n",
       "      <td>01/01/2015</td>\n",
       "      <td>Quarter1</td>\n",
       "      <td>Thursday</td>\n",
       "      <td>0.75</td>\n",
       "      <td>3.94</td>\n",
       "      <td>NaN</td>\n",
       "      <td>960</td>\n",
       "      <td>0</td>\n",
       "      <td>0.0</td>\n",
       "      <td>0</td>\n",
       "      <td>0</td>\n",
       "      <td>0.886500</td>\n",
       "    </tr>\n",
       "    <tr>\n",
       "      <th>2</th>\n",
       "      <td>01/01/2015</td>\n",
       "      <td>Quarter1</td>\n",
       "      <td>Thursday</td>\n",
       "      <td>0.80</td>\n",
       "      <td>11.41</td>\n",
       "      <td>968.0</td>\n",
       "      <td>3660</td>\n",
       "      <td>50</td>\n",
       "      <td>0.0</td>\n",
       "      <td>0</td>\n",
       "      <td>0</td>\n",
       "      <td>0.800570</td>\n",
       "    </tr>\n",
       "    <tr>\n",
       "      <th>3</th>\n",
       "      <td>01/01/2015</td>\n",
       "      <td>Quarter1</td>\n",
       "      <td>Thursday</td>\n",
       "      <td>0.80</td>\n",
       "      <td>11.41</td>\n",
       "      <td>968.0</td>\n",
       "      <td>3660</td>\n",
       "      <td>50</td>\n",
       "      <td>0.0</td>\n",
       "      <td>0</td>\n",
       "      <td>0</td>\n",
       "      <td>0.800570</td>\n",
       "    </tr>\n",
       "    <tr>\n",
       "      <th>4</th>\n",
       "      <td>01/01/2015</td>\n",
       "      <td>Quarter1</td>\n",
       "      <td>Thursday</td>\n",
       "      <td>0.80</td>\n",
       "      <td>25.90</td>\n",
       "      <td>1170.0</td>\n",
       "      <td>1920</td>\n",
       "      <td>50</td>\n",
       "      <td>0.0</td>\n",
       "      <td>0</td>\n",
       "      <td>0</td>\n",
       "      <td>0.800382</td>\n",
       "    </tr>\n",
       "  </tbody>\n",
       "</table>\n",
       "</div>"
      ],
      "text/plain": [
       "         date   quarter       day  targeted_productivity  \\\n",
       "0  01/01/2015  Quarter1  Thursday                   0.80   \n",
       "1  01/01/2015  Quarter1  Thursday                   0.75   \n",
       "2  01/01/2015  Quarter1  Thursday                   0.80   \n",
       "3  01/01/2015  Quarter1  Thursday                   0.80   \n",
       "4  01/01/2015  Quarter1  Thursday                   0.80   \n",
       "\n",
       "   standard_minute_value  work_in_progress  overall_using_times  \\\n",
       "0                  26.16            1108.0                 7080   \n",
       "1                   3.94               NaN                  960   \n",
       "2                  11.41             968.0                 3660   \n",
       "3                  11.41             968.0                 3660   \n",
       "4                  25.90            1170.0                 1920   \n",
       "\n",
       "   incentive_package_users  idle_time  idle_men  no_of_updated  \\\n",
       "0                       98        0.0         0              0   \n",
       "1                        0        0.0         0              0   \n",
       "2                       50        0.0         0              0   \n",
       "3                       50        0.0         0              0   \n",
       "4                       50        0.0         0              0   \n",
       "\n",
       "   actual_productivity  \n",
       "0             0.940725  \n",
       "1             0.886500  \n",
       "2             0.800570  \n",
       "3             0.800570  \n",
       "4             0.800382  "
      ]
     },
     "execution_count": 4,
     "metadata": {},
     "output_type": "execute_result"
    }
   ],
   "source": [
    "# printing the first 5 rows of the datasets\n",
    "dset.head()"
   ]
  },
  {
   "cell_type": "code",
   "execution_count": 5,
   "id": "117a1bbd",
   "metadata": {},
   "outputs": [
    {
     "data": {
      "text/html": [
       "<div>\n",
       "<style scoped>\n",
       "    .dataframe tbody tr th:only-of-type {\n",
       "        vertical-align: middle;\n",
       "    }\n",
       "\n",
       "    .dataframe tbody tr th {\n",
       "        vertical-align: top;\n",
       "    }\n",
       "\n",
       "    .dataframe thead th {\n",
       "        text-align: right;\n",
       "    }\n",
       "</style>\n",
       "<table border=\"1\" class=\"dataframe\">\n",
       "  <thead>\n",
       "    <tr style=\"text-align: right;\">\n",
       "      <th></th>\n",
       "      <th>date</th>\n",
       "      <th>quarter</th>\n",
       "      <th>day</th>\n",
       "      <th>targeted_productivity</th>\n",
       "      <th>standard_minute_value</th>\n",
       "      <th>work_in_progress</th>\n",
       "      <th>overall_using_times</th>\n",
       "      <th>incentive_package_users</th>\n",
       "      <th>idle_time</th>\n",
       "      <th>idle_men</th>\n",
       "      <th>no_of_updated</th>\n",
       "      <th>actual_productivity</th>\n",
       "    </tr>\n",
       "  </thead>\n",
       "  <tbody>\n",
       "    <tr>\n",
       "      <th>1192</th>\n",
       "      <td>03/11/2015</td>\n",
       "      <td>Quarter2</td>\n",
       "      <td>Wednesday</td>\n",
       "      <td>0.75</td>\n",
       "      <td>2.9</td>\n",
       "      <td>NaN</td>\n",
       "      <td>960</td>\n",
       "      <td>0</td>\n",
       "      <td>0.0</td>\n",
       "      <td>0</td>\n",
       "      <td>0</td>\n",
       "      <td>0.628333</td>\n",
       "    </tr>\n",
       "    <tr>\n",
       "      <th>1193</th>\n",
       "      <td>03/11/2015</td>\n",
       "      <td>Quarter2</td>\n",
       "      <td>Wednesday</td>\n",
       "      <td>0.70</td>\n",
       "      <td>3.9</td>\n",
       "      <td>NaN</td>\n",
       "      <td>960</td>\n",
       "      <td>0</td>\n",
       "      <td>0.0</td>\n",
       "      <td>0</td>\n",
       "      <td>0</td>\n",
       "      <td>0.625625</td>\n",
       "    </tr>\n",
       "    <tr>\n",
       "      <th>1194</th>\n",
       "      <td>03/11/2015</td>\n",
       "      <td>Quarter2</td>\n",
       "      <td>Wednesday</td>\n",
       "      <td>0.65</td>\n",
       "      <td>3.9</td>\n",
       "      <td>NaN</td>\n",
       "      <td>960</td>\n",
       "      <td>0</td>\n",
       "      <td>0.0</td>\n",
       "      <td>0</td>\n",
       "      <td>0</td>\n",
       "      <td>0.625625</td>\n",
       "    </tr>\n",
       "    <tr>\n",
       "      <th>1195</th>\n",
       "      <td>03/11/2015</td>\n",
       "      <td>Quarter2</td>\n",
       "      <td>Wednesday</td>\n",
       "      <td>0.75</td>\n",
       "      <td>2.9</td>\n",
       "      <td>NaN</td>\n",
       "      <td>1800</td>\n",
       "      <td>0</td>\n",
       "      <td>0.0</td>\n",
       "      <td>0</td>\n",
       "      <td>0</td>\n",
       "      <td>0.505889</td>\n",
       "    </tr>\n",
       "    <tr>\n",
       "      <th>1196</th>\n",
       "      <td>03/11/2015</td>\n",
       "      <td>Quarter2</td>\n",
       "      <td>Wednesday</td>\n",
       "      <td>0.70</td>\n",
       "      <td>2.9</td>\n",
       "      <td>NaN</td>\n",
       "      <td>720</td>\n",
       "      <td>0</td>\n",
       "      <td>0.0</td>\n",
       "      <td>0</td>\n",
       "      <td>0</td>\n",
       "      <td>0.394722</td>\n",
       "    </tr>\n",
       "  </tbody>\n",
       "</table>\n",
       "</div>"
      ],
      "text/plain": [
       "            date   quarter        day  targeted_productivity  \\\n",
       "1192  03/11/2015  Quarter2  Wednesday                   0.75   \n",
       "1193  03/11/2015  Quarter2  Wednesday                   0.70   \n",
       "1194  03/11/2015  Quarter2  Wednesday                   0.65   \n",
       "1195  03/11/2015  Quarter2  Wednesday                   0.75   \n",
       "1196  03/11/2015  Quarter2  Wednesday                   0.70   \n",
       "\n",
       "      standard_minute_value  work_in_progress  overall_using_times  \\\n",
       "1192                    2.9               NaN                  960   \n",
       "1193                    3.9               NaN                  960   \n",
       "1194                    3.9               NaN                  960   \n",
       "1195                    2.9               NaN                 1800   \n",
       "1196                    2.9               NaN                  720   \n",
       "\n",
       "      incentive_package_users  idle_time  idle_men  no_of_updated  \\\n",
       "1192                        0        0.0         0              0   \n",
       "1193                        0        0.0         0              0   \n",
       "1194                        0        0.0         0              0   \n",
       "1195                        0        0.0         0              0   \n",
       "1196                        0        0.0         0              0   \n",
       "\n",
       "      actual_productivity  \n",
       "1192             0.628333  \n",
       "1193             0.625625  \n",
       "1194             0.625625  \n",
       "1195             0.505889  \n",
       "1196             0.394722  "
      ]
     },
     "execution_count": 5,
     "metadata": {},
     "output_type": "execute_result"
    }
   ],
   "source": [
    "dset.tail()"
   ]
  },
  {
   "cell_type": "code",
   "execution_count": 6,
   "id": "a6b94e80",
   "metadata": {},
   "outputs": [
    {
     "data": {
      "text/plain": [
       "Index(['date', 'quarter', 'day', 'targeted_productivity',\n",
       "       'standard_minute_value', 'work_in_progress', 'overall_using_times',\n",
       "       'incentive_package_users', 'idle_time', 'idle_men', 'no_of_updated',\n",
       "       'actual_productivity'],\n",
       "      dtype='object')"
      ]
     },
     "execution_count": 6,
     "metadata": {},
     "output_type": "execute_result"
    }
   ],
   "source": [
    "# Looking at the columns\n",
    "dset.columns"
   ]
  },
  {
   "cell_type": "code",
   "execution_count": 7,
   "id": "f1434273",
   "metadata": {},
   "outputs": [
    {
     "name": "stdout",
     "output_type": "stream",
     "text": [
      "<class 'pandas.core.frame.DataFrame'>\n",
      "RangeIndex: 1197 entries, 0 to 1196\n",
      "Data columns (total 12 columns):\n",
      " #   Column                   Non-Null Count  Dtype  \n",
      "---  ------                   --------------  -----  \n",
      " 0   date                     1197 non-null   object \n",
      " 1   quarter                  1197 non-null   object \n",
      " 2   day                      1197 non-null   object \n",
      " 3   targeted_productivity    1197 non-null   float64\n",
      " 4   standard_minute_value    1197 non-null   float64\n",
      " 5   work_in_progress         691 non-null    float64\n",
      " 6   overall_using_times      1197 non-null   int64  \n",
      " 7   incentive_package_users  1197 non-null   int64  \n",
      " 8   idle_time                1197 non-null   float64\n",
      " 9   idle_men                 1197 non-null   int64  \n",
      " 10  no_of_updated            1197 non-null   int64  \n",
      " 11  actual_productivity      1197 non-null   float64\n",
      "dtypes: float64(5), int64(4), object(3)\n",
      "memory usage: 112.3+ KB\n"
     ]
    }
   ],
   "source": [
    "dset.info()"
   ]
  },
  {
   "cell_type": "code",
   "execution_count": 8,
   "id": "e9069dc0",
   "metadata": {},
   "outputs": [
    {
     "data": {
      "text/plain": [
       "date                         0\n",
       "quarter                      0\n",
       "day                          0\n",
       "targeted_productivity        0\n",
       "standard_minute_value        0\n",
       "work_in_progress           506\n",
       "overall_using_times          0\n",
       "incentive_package_users      0\n",
       "idle_time                    0\n",
       "idle_men                     0\n",
       "no_of_updated                0\n",
       "actual_productivity          0\n",
       "dtype: int64"
      ]
     },
     "execution_count": 8,
     "metadata": {},
     "output_type": "execute_result"
    }
   ],
   "source": [
    "# Checking the number of missing values\n",
    "dset.isnull().sum()"
   ]
  },
  {
   "cell_type": "code",
   "execution_count": 10,
   "id": "c7e3a90a",
   "metadata": {},
   "outputs": [],
   "source": [
    "dset['work_in_progress'].fillna(int(dset['work_in_progress'].mean()), inplace=True)"
   ]
  },
  {
   "cell_type": "code",
   "execution_count": 11,
   "id": "d01c33f0",
   "metadata": {},
   "outputs": [
    {
     "data": {
      "text/plain": [
       "date                       0\n",
       "quarter                    0\n",
       "day                        0\n",
       "targeted_productivity      0\n",
       "standard_minute_value      0\n",
       "work_in_progress           0\n",
       "overall_using_times        0\n",
       "incentive_package_users    0\n",
       "idle_time                  0\n",
       "idle_men                   0\n",
       "no_of_updated              0\n",
       "actual_productivity        0\n",
       "dtype: int64"
      ]
     },
     "execution_count": 11,
     "metadata": {},
     "output_type": "execute_result"
    }
   ],
   "source": [
    "dset.isnull().sum()"
   ]
  },
  {
   "cell_type": "code",
   "execution_count": 12,
   "id": "9c0f45a2",
   "metadata": {},
   "outputs": [
    {
     "name": "stdout",
     "output_type": "stream",
     "text": [
      "Quarter1    360\n",
      "Quarter2    335\n",
      "Quarter4    248\n",
      "Quarter3    210\n",
      "Quarter5     44\n",
      "Name: quarter, dtype: int64\n",
      "Wednesday    208\n",
      "Sunday       203\n",
      "Tuesday      201\n",
      "Thursday     199\n",
      "Monday       199\n",
      "Saturday     187\n",
      "Name: day, dtype: int64\n"
     ]
    }
   ],
   "source": [
    "print(dset.quarter.value_counts())\n",
    "print(dset.day.value_counts())"
   ]
  },
  {
   "cell_type": "code",
   "execution_count": 13,
   "id": "9313baca",
   "metadata": {},
   "outputs": [
    {
     "data": {
      "text/plain": [
       "(1197, 12)"
      ]
     },
     "execution_count": 13,
     "metadata": {},
     "output_type": "execute_result"
    }
   ],
   "source": [
    "# number of rows and columns in this dataset\n",
    "dset.shape"
   ]
  },
  {
   "cell_type": "code",
   "execution_count": 14,
   "id": "ba0cdeaa",
   "metadata": {},
   "outputs": [
    {
     "data": {
      "text/plain": [
       "<bound method NDFrame.describe of             date   quarter        day  targeted_productivity  \\\n",
       "0     01/01/2015  Quarter1   Thursday                   0.80   \n",
       "1     01/01/2015  Quarter1   Thursday                   0.75   \n",
       "2     01/01/2015  Quarter1   Thursday                   0.80   \n",
       "3     01/01/2015  Quarter1   Thursday                   0.80   \n",
       "4     01/01/2015  Quarter1   Thursday                   0.80   \n",
       "...          ...       ...        ...                    ...   \n",
       "1192  03/11/2015  Quarter2  Wednesday                   0.75   \n",
       "1193  03/11/2015  Quarter2  Wednesday                   0.70   \n",
       "1194  03/11/2015  Quarter2  Wednesday                   0.65   \n",
       "1195  03/11/2015  Quarter2  Wednesday                   0.75   \n",
       "1196  03/11/2015  Quarter2  Wednesday                   0.70   \n",
       "\n",
       "      standard_minute_value  work_in_progress  overall_using_times  \\\n",
       "0                     26.16            1108.0                 7080   \n",
       "1                      3.94            1190.0                  960   \n",
       "2                     11.41             968.0                 3660   \n",
       "3                     11.41             968.0                 3660   \n",
       "4                     25.90            1170.0                 1920   \n",
       "...                     ...               ...                  ...   \n",
       "1192                   2.90            1190.0                  960   \n",
       "1193                   3.90            1190.0                  960   \n",
       "1194                   3.90            1190.0                  960   \n",
       "1195                   2.90            1190.0                 1800   \n",
       "1196                   2.90            1190.0                  720   \n",
       "\n",
       "      incentive_package_users  idle_time  idle_men  no_of_updated  \\\n",
       "0                          98        0.0         0              0   \n",
       "1                           0        0.0         0              0   \n",
       "2                          50        0.0         0              0   \n",
       "3                          50        0.0         0              0   \n",
       "4                          50        0.0         0              0   \n",
       "...                       ...        ...       ...            ...   \n",
       "1192                        0        0.0         0              0   \n",
       "1193                        0        0.0         0              0   \n",
       "1194                        0        0.0         0              0   \n",
       "1195                        0        0.0         0              0   \n",
       "1196                        0        0.0         0              0   \n",
       "\n",
       "      actual_productivity  \n",
       "0                0.940725  \n",
       "1                0.886500  \n",
       "2                0.800570  \n",
       "3                0.800570  \n",
       "4                0.800382  \n",
       "...                   ...  \n",
       "1192             0.628333  \n",
       "1193             0.625625  \n",
       "1194             0.625625  \n",
       "1195             0.505889  \n",
       "1196             0.394722  \n",
       "\n",
       "[1197 rows x 12 columns]>"
      ]
     },
     "execution_count": 14,
     "metadata": {},
     "output_type": "execute_result"
    }
   ],
   "source": [
    "# getting the statical measures of the data\n",
    "dset.describe"
   ]
  },
  {
   "cell_type": "code",
   "execution_count": 15,
   "id": "56080620",
   "metadata": {},
   "outputs": [],
   "source": [
    "# loading the dataset to a pandas dataframe\n",
    "p_dataframe = pd.DataFrame(dset)"
   ]
  },
  {
   "cell_type": "code",
   "execution_count": 16,
   "id": "ec64426d",
   "metadata": {},
   "outputs": [
    {
     "data": {
      "text/html": [
       "<div>\n",
       "<style scoped>\n",
       "    .dataframe tbody tr th:only-of-type {\n",
       "        vertical-align: middle;\n",
       "    }\n",
       "\n",
       "    .dataframe tbody tr th {\n",
       "        vertical-align: top;\n",
       "    }\n",
       "\n",
       "    .dataframe thead th {\n",
       "        text-align: right;\n",
       "    }\n",
       "</style>\n",
       "<table border=\"1\" class=\"dataframe\">\n",
       "  <thead>\n",
       "    <tr style=\"text-align: right;\">\n",
       "      <th></th>\n",
       "      <th>date</th>\n",
       "      <th>quarter</th>\n",
       "      <th>day</th>\n",
       "      <th>targeted_productivity</th>\n",
       "      <th>standard_minute_value</th>\n",
       "      <th>work_in_progress</th>\n",
       "      <th>overall_using_times</th>\n",
       "      <th>incentive_package_users</th>\n",
       "      <th>idle_time</th>\n",
       "      <th>idle_men</th>\n",
       "      <th>no_of_updated</th>\n",
       "      <th>actual_productivity</th>\n",
       "    </tr>\n",
       "  </thead>\n",
       "  <tbody>\n",
       "    <tr>\n",
       "      <th>0</th>\n",
       "      <td>01/01/2015</td>\n",
       "      <td>Quarter1</td>\n",
       "      <td>Thursday</td>\n",
       "      <td>0.80</td>\n",
       "      <td>26.16</td>\n",
       "      <td>1108.0</td>\n",
       "      <td>7080</td>\n",
       "      <td>98</td>\n",
       "      <td>0.0</td>\n",
       "      <td>0</td>\n",
       "      <td>0</td>\n",
       "      <td>0.940725</td>\n",
       "    </tr>\n",
       "    <tr>\n",
       "      <th>1</th>\n",
       "      <td>01/01/2015</td>\n",
       "      <td>Quarter1</td>\n",
       "      <td>Thursday</td>\n",
       "      <td>0.75</td>\n",
       "      <td>3.94</td>\n",
       "      <td>1190.0</td>\n",
       "      <td>960</td>\n",
       "      <td>0</td>\n",
       "      <td>0.0</td>\n",
       "      <td>0</td>\n",
       "      <td>0</td>\n",
       "      <td>0.886500</td>\n",
       "    </tr>\n",
       "    <tr>\n",
       "      <th>2</th>\n",
       "      <td>01/01/2015</td>\n",
       "      <td>Quarter1</td>\n",
       "      <td>Thursday</td>\n",
       "      <td>0.80</td>\n",
       "      <td>11.41</td>\n",
       "      <td>968.0</td>\n",
       "      <td>3660</td>\n",
       "      <td>50</td>\n",
       "      <td>0.0</td>\n",
       "      <td>0</td>\n",
       "      <td>0</td>\n",
       "      <td>0.800570</td>\n",
       "    </tr>\n",
       "    <tr>\n",
       "      <th>3</th>\n",
       "      <td>01/01/2015</td>\n",
       "      <td>Quarter1</td>\n",
       "      <td>Thursday</td>\n",
       "      <td>0.80</td>\n",
       "      <td>11.41</td>\n",
       "      <td>968.0</td>\n",
       "      <td>3660</td>\n",
       "      <td>50</td>\n",
       "      <td>0.0</td>\n",
       "      <td>0</td>\n",
       "      <td>0</td>\n",
       "      <td>0.800570</td>\n",
       "    </tr>\n",
       "    <tr>\n",
       "      <th>4</th>\n",
       "      <td>01/01/2015</td>\n",
       "      <td>Quarter1</td>\n",
       "      <td>Thursday</td>\n",
       "      <td>0.80</td>\n",
       "      <td>25.90</td>\n",
       "      <td>1170.0</td>\n",
       "      <td>1920</td>\n",
       "      <td>50</td>\n",
       "      <td>0.0</td>\n",
       "      <td>0</td>\n",
       "      <td>0</td>\n",
       "      <td>0.800382</td>\n",
       "    </tr>\n",
       "  </tbody>\n",
       "</table>\n",
       "</div>"
      ],
      "text/plain": [
       "         date   quarter       day  targeted_productivity  \\\n",
       "0  01/01/2015  Quarter1  Thursday                   0.80   \n",
       "1  01/01/2015  Quarter1  Thursday                   0.75   \n",
       "2  01/01/2015  Quarter1  Thursday                   0.80   \n",
       "3  01/01/2015  Quarter1  Thursday                   0.80   \n",
       "4  01/01/2015  Quarter1  Thursday                   0.80   \n",
       "\n",
       "   standard_minute_value  work_in_progress  overall_using_times  \\\n",
       "0                  26.16            1108.0                 7080   \n",
       "1                   3.94            1190.0                  960   \n",
       "2                  11.41             968.0                 3660   \n",
       "3                  11.41             968.0                 3660   \n",
       "4                  25.90            1170.0                 1920   \n",
       "\n",
       "   incentive_package_users  idle_time  idle_men  no_of_updated  \\\n",
       "0                       98        0.0         0              0   \n",
       "1                        0        0.0         0              0   \n",
       "2                       50        0.0         0              0   \n",
       "3                       50        0.0         0              0   \n",
       "4                       50        0.0         0              0   \n",
       "\n",
       "   actual_productivity  \n",
       "0             0.940725  \n",
       "1             0.886500  \n",
       "2             0.800570  \n",
       "3             0.800570  \n",
       "4             0.800382  "
      ]
     },
     "execution_count": 16,
     "metadata": {},
     "output_type": "execute_result"
    }
   ],
   "source": [
    "# Print first 5 rows of dataframe\n",
    "p_dataframe.head()"
   ]
  },
  {
   "cell_type": "code",
   "execution_count": 17,
   "id": "41f1ad3d",
   "metadata": {},
   "outputs": [
    {
     "data": {
      "text/plain": [
       "date                       0\n",
       "quarter                    0\n",
       "day                        0\n",
       "targeted_productivity      0\n",
       "standard_minute_value      0\n",
       "work_in_progress           0\n",
       "overall_using_times        0\n",
       "incentive_package_users    0\n",
       "idle_time                  0\n",
       "idle_men                   0\n",
       "no_of_updated              0\n",
       "actual_productivity        0\n",
       "dtype: int64"
      ]
     },
     "execution_count": 17,
     "metadata": {},
     "output_type": "execute_result"
    }
   ],
   "source": [
    "# check for missing values\n",
    "p_dataframe.isnull().sum()"
   ]
  },
  {
   "cell_type": "code",
   "execution_count": 18,
   "id": "c0ddffd4",
   "metadata": {},
   "outputs": [
    {
     "name": "stdout",
     "output_type": "stream",
     "text": [
      "Quarter1    360\n",
      "Quarter2    335\n",
      "Quarter4    248\n",
      "Quarter3    210\n",
      "Quarter5     44\n",
      "Name: quarter, dtype: int64\n",
      "Wednesday    208\n",
      "Sunday       203\n",
      "Tuesday      201\n",
      "Thursday     199\n",
      "Monday       199\n",
      "Saturday     187\n",
      "Name: day, dtype: int64\n"
     ]
    }
   ],
   "source": [
    "print(dset.quarter.value_counts())\n",
    "print(dset.day.value_counts())"
   ]
  },
  {
   "cell_type": "code",
   "execution_count": 19,
   "id": "7327944f",
   "metadata": {},
   "outputs": [],
   "source": [
    "p_dataframe.replace({'quarter':{'Quarter1':0,'Quarter2':1,'Quarter3':2,'Quarter4':3,'Quarter5':4}},inplace=True)\n",
    "p_dataframe.replace({'day':{'Sunday':0,'Monday':1,'Tuesday':2,'Wednesday':3,'Thursday':4,'Saturday':5}},inplace=True)"
   ]
  },
  {
   "cell_type": "code",
   "execution_count": 20,
   "id": "2636ee86",
   "metadata": {},
   "outputs": [
    {
     "data": {
      "text/html": [
       "<div>\n",
       "<style scoped>\n",
       "    .dataframe tbody tr th:only-of-type {\n",
       "        vertical-align: middle;\n",
       "    }\n",
       "\n",
       "    .dataframe tbody tr th {\n",
       "        vertical-align: top;\n",
       "    }\n",
       "\n",
       "    .dataframe thead th {\n",
       "        text-align: right;\n",
       "    }\n",
       "</style>\n",
       "<table border=\"1\" class=\"dataframe\">\n",
       "  <thead>\n",
       "    <tr style=\"text-align: right;\">\n",
       "      <th></th>\n",
       "      <th>date</th>\n",
       "      <th>quarter</th>\n",
       "      <th>day</th>\n",
       "      <th>targeted_productivity</th>\n",
       "      <th>standard_minute_value</th>\n",
       "      <th>work_in_progress</th>\n",
       "      <th>overall_using_times</th>\n",
       "      <th>incentive_package_users</th>\n",
       "      <th>idle_time</th>\n",
       "      <th>idle_men</th>\n",
       "      <th>no_of_updated</th>\n",
       "      <th>actual_productivity</th>\n",
       "    </tr>\n",
       "  </thead>\n",
       "  <tbody>\n",
       "    <tr>\n",
       "      <th>0</th>\n",
       "      <td>01/01/2015</td>\n",
       "      <td>0</td>\n",
       "      <td>4</td>\n",
       "      <td>0.80</td>\n",
       "      <td>26.16</td>\n",
       "      <td>1108.0</td>\n",
       "      <td>7080</td>\n",
       "      <td>98</td>\n",
       "      <td>0.0</td>\n",
       "      <td>0</td>\n",
       "      <td>0</td>\n",
       "      <td>0.940725</td>\n",
       "    </tr>\n",
       "    <tr>\n",
       "      <th>1</th>\n",
       "      <td>01/01/2015</td>\n",
       "      <td>0</td>\n",
       "      <td>4</td>\n",
       "      <td>0.75</td>\n",
       "      <td>3.94</td>\n",
       "      <td>1190.0</td>\n",
       "      <td>960</td>\n",
       "      <td>0</td>\n",
       "      <td>0.0</td>\n",
       "      <td>0</td>\n",
       "      <td>0</td>\n",
       "      <td>0.886500</td>\n",
       "    </tr>\n",
       "    <tr>\n",
       "      <th>2</th>\n",
       "      <td>01/01/2015</td>\n",
       "      <td>0</td>\n",
       "      <td>4</td>\n",
       "      <td>0.80</td>\n",
       "      <td>11.41</td>\n",
       "      <td>968.0</td>\n",
       "      <td>3660</td>\n",
       "      <td>50</td>\n",
       "      <td>0.0</td>\n",
       "      <td>0</td>\n",
       "      <td>0</td>\n",
       "      <td>0.800570</td>\n",
       "    </tr>\n",
       "    <tr>\n",
       "      <th>3</th>\n",
       "      <td>01/01/2015</td>\n",
       "      <td>0</td>\n",
       "      <td>4</td>\n",
       "      <td>0.80</td>\n",
       "      <td>11.41</td>\n",
       "      <td>968.0</td>\n",
       "      <td>3660</td>\n",
       "      <td>50</td>\n",
       "      <td>0.0</td>\n",
       "      <td>0</td>\n",
       "      <td>0</td>\n",
       "      <td>0.800570</td>\n",
       "    </tr>\n",
       "    <tr>\n",
       "      <th>4</th>\n",
       "      <td>01/01/2015</td>\n",
       "      <td>0</td>\n",
       "      <td>4</td>\n",
       "      <td>0.80</td>\n",
       "      <td>25.90</td>\n",
       "      <td>1170.0</td>\n",
       "      <td>1920</td>\n",
       "      <td>50</td>\n",
       "      <td>0.0</td>\n",
       "      <td>0</td>\n",
       "      <td>0</td>\n",
       "      <td>0.800382</td>\n",
       "    </tr>\n",
       "  </tbody>\n",
       "</table>\n",
       "</div>"
      ],
      "text/plain": [
       "         date  quarter  day  targeted_productivity  standard_minute_value  \\\n",
       "0  01/01/2015        0    4                   0.80                  26.16   \n",
       "1  01/01/2015        0    4                   0.75                   3.94   \n",
       "2  01/01/2015        0    4                   0.80                  11.41   \n",
       "3  01/01/2015        0    4                   0.80                  11.41   \n",
       "4  01/01/2015        0    4                   0.80                  25.90   \n",
       "\n",
       "   work_in_progress  overall_using_times  incentive_package_users  idle_time  \\\n",
       "0            1108.0                 7080                       98        0.0   \n",
       "1            1190.0                  960                        0        0.0   \n",
       "2             968.0                 3660                       50        0.0   \n",
       "3             968.0                 3660                       50        0.0   \n",
       "4            1170.0                 1920                       50        0.0   \n",
       "\n",
       "   idle_men  no_of_updated  actual_productivity  \n",
       "0         0              0             0.940725  \n",
       "1         0              0             0.886500  \n",
       "2         0              0             0.800570  \n",
       "3         0              0             0.800570  \n",
       "4         0              0             0.800382  "
      ]
     },
     "execution_count": 20,
     "metadata": {},
     "output_type": "execute_result"
    }
   ],
   "source": [
    "p_dataframe.head()"
   ]
  },
  {
   "cell_type": "code",
   "execution_count": 21,
   "id": "07c86dc5",
   "metadata": {},
   "outputs": [
    {
     "data": {
      "text/html": [
       "<div>\n",
       "<style scoped>\n",
       "    .dataframe tbody tr th:only-of-type {\n",
       "        vertical-align: middle;\n",
       "    }\n",
       "\n",
       "    .dataframe tbody tr th {\n",
       "        vertical-align: top;\n",
       "    }\n",
       "\n",
       "    .dataframe thead th {\n",
       "        text-align: right;\n",
       "    }\n",
       "</style>\n",
       "<table border=\"1\" class=\"dataframe\">\n",
       "  <thead>\n",
       "    <tr style=\"text-align: right;\">\n",
       "      <th></th>\n",
       "      <th>date</th>\n",
       "      <th>quarter</th>\n",
       "      <th>day</th>\n",
       "      <th>targeted_productivity</th>\n",
       "      <th>standard_minute_value</th>\n",
       "      <th>work_in_progress</th>\n",
       "      <th>overall_using_times</th>\n",
       "      <th>incentive_package_users</th>\n",
       "      <th>idle_time</th>\n",
       "      <th>idle_men</th>\n",
       "      <th>no_of_updated</th>\n",
       "      <th>actual_productivity</th>\n",
       "    </tr>\n",
       "  </thead>\n",
       "  <tbody>\n",
       "    <tr>\n",
       "      <th>1192</th>\n",
       "      <td>03/11/2015</td>\n",
       "      <td>1</td>\n",
       "      <td>3</td>\n",
       "      <td>0.75</td>\n",
       "      <td>2.9</td>\n",
       "      <td>1190.0</td>\n",
       "      <td>960</td>\n",
       "      <td>0</td>\n",
       "      <td>0.0</td>\n",
       "      <td>0</td>\n",
       "      <td>0</td>\n",
       "      <td>0.628333</td>\n",
       "    </tr>\n",
       "    <tr>\n",
       "      <th>1193</th>\n",
       "      <td>03/11/2015</td>\n",
       "      <td>1</td>\n",
       "      <td>3</td>\n",
       "      <td>0.70</td>\n",
       "      <td>3.9</td>\n",
       "      <td>1190.0</td>\n",
       "      <td>960</td>\n",
       "      <td>0</td>\n",
       "      <td>0.0</td>\n",
       "      <td>0</td>\n",
       "      <td>0</td>\n",
       "      <td>0.625625</td>\n",
       "    </tr>\n",
       "    <tr>\n",
       "      <th>1194</th>\n",
       "      <td>03/11/2015</td>\n",
       "      <td>1</td>\n",
       "      <td>3</td>\n",
       "      <td>0.65</td>\n",
       "      <td>3.9</td>\n",
       "      <td>1190.0</td>\n",
       "      <td>960</td>\n",
       "      <td>0</td>\n",
       "      <td>0.0</td>\n",
       "      <td>0</td>\n",
       "      <td>0</td>\n",
       "      <td>0.625625</td>\n",
       "    </tr>\n",
       "    <tr>\n",
       "      <th>1195</th>\n",
       "      <td>03/11/2015</td>\n",
       "      <td>1</td>\n",
       "      <td>3</td>\n",
       "      <td>0.75</td>\n",
       "      <td>2.9</td>\n",
       "      <td>1190.0</td>\n",
       "      <td>1800</td>\n",
       "      <td>0</td>\n",
       "      <td>0.0</td>\n",
       "      <td>0</td>\n",
       "      <td>0</td>\n",
       "      <td>0.505889</td>\n",
       "    </tr>\n",
       "    <tr>\n",
       "      <th>1196</th>\n",
       "      <td>03/11/2015</td>\n",
       "      <td>1</td>\n",
       "      <td>3</td>\n",
       "      <td>0.70</td>\n",
       "      <td>2.9</td>\n",
       "      <td>1190.0</td>\n",
       "      <td>720</td>\n",
       "      <td>0</td>\n",
       "      <td>0.0</td>\n",
       "      <td>0</td>\n",
       "      <td>0</td>\n",
       "      <td>0.394722</td>\n",
       "    </tr>\n",
       "  </tbody>\n",
       "</table>\n",
       "</div>"
      ],
      "text/plain": [
       "            date  quarter  day  targeted_productivity  standard_minute_value  \\\n",
       "1192  03/11/2015        1    3                   0.75                    2.9   \n",
       "1193  03/11/2015        1    3                   0.70                    3.9   \n",
       "1194  03/11/2015        1    3                   0.65                    3.9   \n",
       "1195  03/11/2015        1    3                   0.75                    2.9   \n",
       "1196  03/11/2015        1    3                   0.70                    2.9   \n",
       "\n",
       "      work_in_progress  overall_using_times  incentive_package_users  \\\n",
       "1192            1190.0                  960                        0   \n",
       "1193            1190.0                  960                        0   \n",
       "1194            1190.0                  960                        0   \n",
       "1195            1190.0                 1800                        0   \n",
       "1196            1190.0                  720                        0   \n",
       "\n",
       "      idle_time  idle_men  no_of_updated  actual_productivity  \n",
       "1192        0.0         0              0             0.628333  \n",
       "1193        0.0         0              0             0.625625  \n",
       "1194        0.0         0              0             0.625625  \n",
       "1195        0.0         0              0             0.505889  \n",
       "1196        0.0         0              0             0.394722  "
      ]
     },
     "execution_count": 21,
     "metadata": {},
     "output_type": "execute_result"
    }
   ],
   "source": [
    "p_dataframe.tail()"
   ]
  },
  {
   "cell_type": "code",
   "execution_count": 22,
   "id": "d53887ad",
   "metadata": {},
   "outputs": [
    {
     "data": {
      "text/html": [
       "<div>\n",
       "<style scoped>\n",
       "    .dataframe tbody tr th:only-of-type {\n",
       "        vertical-align: middle;\n",
       "    }\n",
       "\n",
       "    .dataframe tbody tr th {\n",
       "        vertical-align: top;\n",
       "    }\n",
       "\n",
       "    .dataframe thead th {\n",
       "        text-align: right;\n",
       "    }\n",
       "</style>\n",
       "<table border=\"1\" class=\"dataframe\">\n",
       "  <thead>\n",
       "    <tr style=\"text-align: right;\">\n",
       "      <th></th>\n",
       "      <th>quarter</th>\n",
       "      <th>day</th>\n",
       "      <th>targeted_productivity</th>\n",
       "      <th>standard_minute_value</th>\n",
       "      <th>work_in_progress</th>\n",
       "      <th>overall_using_times</th>\n",
       "      <th>incentive_package_users</th>\n",
       "      <th>idle_time</th>\n",
       "      <th>idle_men</th>\n",
       "      <th>no_of_updated</th>\n",
       "      <th>actual_productivity</th>\n",
       "    </tr>\n",
       "  </thead>\n",
       "  <tbody>\n",
       "    <tr>\n",
       "      <th>count</th>\n",
       "      <td>1197.000000</td>\n",
       "      <td>1197.000000</td>\n",
       "      <td>1197.000000</td>\n",
       "      <td>1197.000000</td>\n",
       "      <td>1197.000000</td>\n",
       "      <td>1197.000000</td>\n",
       "      <td>1197.000000</td>\n",
       "      <td>1197.000000</td>\n",
       "      <td>1197.000000</td>\n",
       "      <td>1197.000000</td>\n",
       "      <td>1197.000000</td>\n",
       "    </tr>\n",
       "    <tr>\n",
       "      <th>mean</th>\n",
       "      <td>1.399332</td>\n",
       "      <td>2.469507</td>\n",
       "      <td>0.729632</td>\n",
       "      <td>15.062172</td>\n",
       "      <td>1190.269006</td>\n",
       "      <td>4567.460317</td>\n",
       "      <td>38.210526</td>\n",
       "      <td>0.730159</td>\n",
       "      <td>0.369256</td>\n",
       "      <td>0.150376</td>\n",
       "      <td>0.735091</td>\n",
       "    </tr>\n",
       "    <tr>\n",
       "      <th>std</th>\n",
       "      <td>1.215535</td>\n",
       "      <td>1.694506</td>\n",
       "      <td>0.097891</td>\n",
       "      <td>10.943219</td>\n",
       "      <td>1395.647280</td>\n",
       "      <td>3348.823563</td>\n",
       "      <td>160.182643</td>\n",
       "      <td>12.709757</td>\n",
       "      <td>3.268987</td>\n",
       "      <td>0.427848</td>\n",
       "      <td>0.174488</td>\n",
       "    </tr>\n",
       "    <tr>\n",
       "      <th>min</th>\n",
       "      <td>0.000000</td>\n",
       "      <td>0.000000</td>\n",
       "      <td>0.070000</td>\n",
       "      <td>2.900000</td>\n",
       "      <td>7.000000</td>\n",
       "      <td>0.000000</td>\n",
       "      <td>0.000000</td>\n",
       "      <td>0.000000</td>\n",
       "      <td>0.000000</td>\n",
       "      <td>0.000000</td>\n",
       "      <td>0.233705</td>\n",
       "    </tr>\n",
       "    <tr>\n",
       "      <th>25%</th>\n",
       "      <td>0.000000</td>\n",
       "      <td>1.000000</td>\n",
       "      <td>0.700000</td>\n",
       "      <td>3.940000</td>\n",
       "      <td>970.000000</td>\n",
       "      <td>1440.000000</td>\n",
       "      <td>0.000000</td>\n",
       "      <td>0.000000</td>\n",
       "      <td>0.000000</td>\n",
       "      <td>0.000000</td>\n",
       "      <td>0.650307</td>\n",
       "    </tr>\n",
       "    <tr>\n",
       "      <th>50%</th>\n",
       "      <td>1.000000</td>\n",
       "      <td>2.000000</td>\n",
       "      <td>0.750000</td>\n",
       "      <td>15.260000</td>\n",
       "      <td>1190.000000</td>\n",
       "      <td>3960.000000</td>\n",
       "      <td>0.000000</td>\n",
       "      <td>0.000000</td>\n",
       "      <td>0.000000</td>\n",
       "      <td>0.000000</td>\n",
       "      <td>0.773333</td>\n",
       "    </tr>\n",
       "    <tr>\n",
       "      <th>75%</th>\n",
       "      <td>2.000000</td>\n",
       "      <td>4.000000</td>\n",
       "      <td>0.800000</td>\n",
       "      <td>24.260000</td>\n",
       "      <td>1190.000000</td>\n",
       "      <td>6960.000000</td>\n",
       "      <td>50.000000</td>\n",
       "      <td>0.000000</td>\n",
       "      <td>0.000000</td>\n",
       "      <td>0.000000</td>\n",
       "      <td>0.850253</td>\n",
       "    </tr>\n",
       "    <tr>\n",
       "      <th>max</th>\n",
       "      <td>4.000000</td>\n",
       "      <td>5.000000</td>\n",
       "      <td>0.800000</td>\n",
       "      <td>54.560000</td>\n",
       "      <td>23122.000000</td>\n",
       "      <td>25920.000000</td>\n",
       "      <td>3600.000000</td>\n",
       "      <td>300.000000</td>\n",
       "      <td>45.000000</td>\n",
       "      <td>2.000000</td>\n",
       "      <td>1.120437</td>\n",
       "    </tr>\n",
       "  </tbody>\n",
       "</table>\n",
       "</div>"
      ],
      "text/plain": [
       "           quarter          day  targeted_productivity  standard_minute_value  \\\n",
       "count  1197.000000  1197.000000            1197.000000            1197.000000   \n",
       "mean      1.399332     2.469507               0.729632              15.062172   \n",
       "std       1.215535     1.694506               0.097891              10.943219   \n",
       "min       0.000000     0.000000               0.070000               2.900000   \n",
       "25%       0.000000     1.000000               0.700000               3.940000   \n",
       "50%       1.000000     2.000000               0.750000              15.260000   \n",
       "75%       2.000000     4.000000               0.800000              24.260000   \n",
       "max       4.000000     5.000000               0.800000              54.560000   \n",
       "\n",
       "       work_in_progress  overall_using_times  incentive_package_users  \\\n",
       "count       1197.000000          1197.000000              1197.000000   \n",
       "mean        1190.269006          4567.460317                38.210526   \n",
       "std         1395.647280          3348.823563               160.182643   \n",
       "min            7.000000             0.000000                 0.000000   \n",
       "25%          970.000000          1440.000000                 0.000000   \n",
       "50%         1190.000000          3960.000000                 0.000000   \n",
       "75%         1190.000000          6960.000000                50.000000   \n",
       "max        23122.000000         25920.000000              3600.000000   \n",
       "\n",
       "         idle_time     idle_men  no_of_updated  actual_productivity  \n",
       "count  1197.000000  1197.000000    1197.000000          1197.000000  \n",
       "mean      0.730159     0.369256       0.150376             0.735091  \n",
       "std      12.709757     3.268987       0.427848             0.174488  \n",
       "min       0.000000     0.000000       0.000000             0.233705  \n",
       "25%       0.000000     0.000000       0.000000             0.650307  \n",
       "50%       0.000000     0.000000       0.000000             0.773333  \n",
       "75%       0.000000     0.000000       0.000000             0.850253  \n",
       "max     300.000000    45.000000       2.000000             1.120437  "
      ]
     },
     "execution_count": 22,
     "metadata": {},
     "output_type": "execute_result"
    }
   ],
   "source": [
    "# getting statistical measures of the data\n",
    "p_dataframe.describe()"
   ]
  },
  {
   "cell_type": "code",
   "execution_count": 23,
   "id": "8c9c94b7",
   "metadata": {},
   "outputs": [
    {
     "data": {
      "text/plain": [
       "<AxesSubplot:>"
      ]
     },
     "execution_count": 23,
     "metadata": {},
     "output_type": "execute_result"
    },
    {
     "data": {
      "image/png": "[encoded data removed]",
      "text/plain": [
       "<Figure size 432x288 with 1 Axes>"
      ]
     },
     "metadata": {
      "needs_background": "light"
     },
     "output_type": "display_data"
    }
   ],
   "source": [
    "p_dataframe.day.value_counts().plot(kind='bar')"
   ]
  },
  {
   "cell_type": "code",
   "execution_count": 24,
   "id": "729055ed",
   "metadata": {},
   "outputs": [
    {
     "data": {
      "text/plain": [
       "<AxesSubplot:>"
      ]
     },
     "execution_count": 24,
     "metadata": {},
     "output_type": "execute_result"
    },
    {
     "data": {
      "image/png": "[encoded data removed]",
      "text/plain": [
       "<Figure size 432x288 with 1 Axes>"
      ]
     },
     "metadata": {
      "needs_background": "light"
     },
     "output_type": "display_data"
    }
   ],
   "source": [
    "p_dataframe.quarter.value_counts().plot(kind='bar')"
   ]
  },
  {
   "cell_type": "code",
   "execution_count": 25,
   "id": "50d7d7af",
   "metadata": {},
   "outputs": [],
   "source": [
    "# Separate categorical and numerical data for simplicity in analysis\n",
    "#category = p_dataframe.select_dtypes(include='object')\n",
    "numerical = p_dataframe.select_dtypes(exclude='object')"
   ]
  },
  {
   "cell_type": "code",
   "execution_count": 26,
   "id": "5665ceed",
   "metadata": {},
   "outputs": [
    {
     "data": {
      "text/plain": [
       "Index(['quarter', 'day', 'targeted_productivity', 'standard_minute_value',\n",
       "       'work_in_progress', 'overall_using_times', 'incentive_package_users',\n",
       "       'idle_time', 'idle_men', 'no_of_updated', 'actual_productivity'],\n",
       "      dtype='object')"
      ]
     },
     "execution_count": 26,
     "metadata": {},
     "output_type": "execute_result"
    }
   ],
   "source": [
    "numerical.columns"
   ]
  },
  {
   "cell_type": "code",
   "execution_count": 27,
   "id": "c6be7a98",
   "metadata": {},
   "outputs": [
    {
     "name": "stdout",
     "output_type": "stream",
     "text": [
      "quarter\n"
     ]
    },
    {
     "data": {
      "image/png": "[encoded data removed]",
      "text/plain": [
       "<Figure size 432x288 with 1 Axes>"
      ]
     },
     "metadata": {
      "needs_background": "light"
     },
     "output_type": "display_data"
    },
    {
     "name": "stdout",
     "output_type": "stream",
     "text": [
      "day\n"
     ]
    },
    {
     "data": {
      "image/png": "[encoded data removed]",
      "text/plain": [
       "<Figure size 432x288 with 1 Axes>"
      ]
     },
     "metadata": {
      "needs_background": "light"
     },
     "output_type": "display_data"
    },
    {
     "name": "stdout",
     "output_type": "stream",
     "text": [
      "targeted_productivity\n"
     ]
    },
    {
     "data": {
      "image/png": "[encoded data removed]",
      "text/plain": [
       "<Figure size 432x288 with 1 Axes>"
      ]
     },
     "metadata": {
      "needs_background": "light"
     },
     "output_type": "display_data"
    },
    {
     "name": "stdout",
     "output_type": "stream",
     "text": [
      "standard_minute_value\n"
     ]
    },
    {
     "data": {
      "image/png": "[encoded data removed]",
      "text/plain": [
       "<Figure size 432x288 with 1 Axes>"
      ]
     },
     "metadata": {
      "needs_background": "light"
     },
     "output_type": "display_data"
    },
    {
     "name": "stdout",
     "output_type": "stream",
     "text": [
      "work_in_progress\n"
     ]
    },
    {
     "data": {
      "image/png": "[encoded data removed]",
      "text/plain": [
       "<Figure size 432x288 with 1 Axes>"
      ]
     },
     "metadata": {
      "needs_background": "light"
     },
     "output_type": "display_data"
    },
    {
     "name": "stdout",
     "output_type": "stream",
     "text": [
      "overall_using_times\n"
     ]
    },
    {
     "data": {
      "image/png": "[encoded data removed]",
      "text/plain": [
       "<Figure size 432x288 with 1 Axes>"
      ]
     },
     "metadata": {
      "needs_background": "light"
     },
     "output_type": "display_data"
    },
    {
     "name": "stdout",
     "output_type": "stream",
     "text": [
      "incentive_package_users\n"
     ]
    },
    {
     "data": {
      "image/png": "[encoded data removed]",
      "text/plain": [
       "<Figure size 432x288 with 1 Axes>"
      ]
     },
     "metadata": {
      "needs_background": "light"
     },
     "output_type": "display_data"
    },
    {
     "name": "stdout",
     "output_type": "stream",
     "text": [
      "idle_time\n"
     ]
    },
    {
     "data": {
      "image/png": "[encoded data removed]",
      "text/plain": [
       "<Figure size 432x288 with 1 Axes>"
      ]
     },
     "metadata": {
      "needs_background": "light"
     },
     "output_type": "display_data"
    },
    {
     "name": "stdout",
     "output_type": "stream",
     "text": [
      "idle_men\n"
     ]
    },
    {
     "data": {
      "image/png": "[encoded data removed]",
      "text/plain": [
       "<Figure size 432x288 with 1 Axes>"
      ]
     },
     "metadata": {
      "needs_background": "light"
     },
     "output_type": "display_data"
    },
    {
     "name": "stdout",
     "output_type": "stream",
     "text": [
      "no_of_updated\n"
     ]
    },
    {
     "data": {
      "image/png": "[encoded data removed]",
      "text/plain": [
       "<Figure size 432x288 with 1 Axes>"
      ]
     },
     "metadata": {
      "needs_background": "light"
     },
     "output_type": "display_data"
    },
    {
     "name": "stdout",
     "output_type": "stream",
     "text": [
      "actual_productivity\n"
     ]
    },
    {
     "data": {
      "image/png": "[encoded data removed]",
      "text/plain": [
       "<Figure size 432x288 with 1 Axes>"
      ]
     },
     "metadata": {
      "needs_background": "light"
     },
     "output_type": "display_data"
    }
   ],
   "source": [
    "for i in range(len(numerical.columns)):\n",
    "    print(numerical.columns[i])\n",
    "    numerical.iloc[:, i].plot(kind='hist')\n",
    "    plt.show()"
   ]
  },
  {
   "cell_type": "code",
   "execution_count": 28,
   "id": "664c19b6",
   "metadata": {},
   "outputs": [
    {
     "data": {
      "text/plain": [
       "<AxesSubplot:>"
      ]
     },
     "execution_count": 28,
     "metadata": {},
     "output_type": "execute_result"
    },
    {
     "data": {
      "image/png": "[encoded data removed]",
      "text/plain": [
       "<Figure size 576x504 with 1 Axes>"
      ]
     },
     "metadata": {
      "needs_background": "light"
     },
     "output_type": "display_data"
    }
   ],
   "source": [
    "numerical.boxplot(column = [ 'targeted_productivity', 'actual_productivity'],figsize=(8,7))"
   ]
  },
  {
   "cell_type": "code",
   "execution_count": 29,
   "id": "c04405e3",
   "metadata": {},
   "outputs": [
    {
     "data": {
      "text/plain": [
       "Text(0.5, 1.0, 'average work in progress for each quaters in month')"
      ]
     },
     "execution_count": 29,
     "metadata": {},
     "output_type": "execute_result"
    },
    {
     "data": {
      "image/png": "[encoded data removed]",
      "text/plain": [
       "<Figure size 864x360 with 2 Axes>"
      ]
     },
     "metadata": {
      "needs_background": "light"
     },
     "output_type": "display_data"
    }
   ],
   "source": [
    "fig, ax = plt.subplots(ncols=2,figsize=(12,5))\n",
    "p_dataframe.groupby(['quarter']).agg({'work_in_progress':['sum']}).plot(ax=ax[0], kind = 'bar')\n",
    "ax[0].set_title('total work in progress for each quaters in month')\n",
    "p_dataframe.groupby(['quarter']).agg({'work_in_progress':['mean']}).plot(ax=ax[1], kind = 'bar')\n",
    "ax[1].set_title('average work in progress for each quaters in month')"
   ]
  },
  {
   "cell_type": "code",
   "execution_count": 30,
   "id": "53bbe624",
   "metadata": {},
   "outputs": [
    {
     "data": {
      "text/plain": [
       "Text(0.5, 1.0, 'average work in progress for each day')"
      ]
     },
     "execution_count": 30,
     "metadata": {},
     "output_type": "execute_result"
    },
    {
     "data": {
      "image/png": "[encoded data removed]",
      "text/plain": [
       "<Figure size 864x360 with 2 Axes>"
      ]
     },
     "metadata": {
      "needs_background": "light"
     },
     "output_type": "display_data"
    }
   ],
   "source": [
    "fig, ax = plt.subplots(ncols=2,figsize=(12,5))\n",
    "p_dataframe.groupby(['day']).agg({'work_in_progress':['sum']}).plot(ax=ax[0], kind = 'bar')\n",
    "ax[0].set_title('total work in progress for each day')\n",
    "p_dataframe.groupby(['day']).agg({'work_in_progress':['mean']}).plot(ax=ax[1], kind = 'bar')\n",
    "ax[1].set_title('average work in progress for each day')"
   ]
  },
  {
   "cell_type": "code",
   "execution_count": 31,
   "id": "e5d060eb",
   "metadata": {},
   "outputs": [
    {
     "data": {
      "text/plain": [
       "Text(0.5, 1.0, 'average work in progress for each targeted_productivity')"
      ]
     },
     "execution_count": 31,
     "metadata": {},
     "output_type": "execute_result"
    },
    {
     "data": {
      "image/png": "[encoded data removed]",
      "text/plain": [
       "<Figure size 864x360 with 2 Axes>"
      ]
     },
     "metadata": {
      "needs_background": "light"
     },
     "output_type": "display_data"
    }
   ],
   "source": [
    "fig, ax = plt.subplots(ncols=2,figsize=(12,5))\n",
    "p_dataframe.groupby(['targeted_productivity']).agg({'work_in_progress':['sum']}).plot(ax=ax[0], kind = 'bar')\n",
    "ax[0].set_title('total work in progress for each targeted_productivity')\n",
    "p_dataframe.groupby(['targeted_productivity']).agg({'work_in_progress':['mean']}).plot(ax=ax[1], kind = 'bar')\n",
    "ax[1].set_title('average work in progress for each targeted_productivity')"
   ]
  },
  {
   "cell_type": "code",
   "execution_count": 32,
   "id": "c2d802cd",
   "metadata": {},
   "outputs": [
    {
     "name": "stderr",
     "output_type": "stream",
     "text": [
      "D:\\anaconda\\lib\\site-packages\\seaborn\\distributions.py:2619: FutureWarning: `distplot` is a deprecated function and will be removed in a future version. Please adapt your code to use either `displot` (a figure-level function with similar flexibility) or `histplot` (an axes-level function for histograms).\n",
      "  warnings.warn(msg, FutureWarning)\n"
     ]
    },
    {
     "data": {
      "image/png": "[encoded data removed]",
      "text/plain": [
       "<Figure size 720x360 with 1 Axes>"
      ]
     },
     "metadata": {
      "needs_background": "light"
     },
     "output_type": "display_data"
    }
   ],
   "source": [
    "fig, ax = plt.subplots(1,1,figsize = (10,5))\n",
    "sns.distplot(p_dataframe['targeted_productivity'], bins = 10, ax = ax)\n",
    "plt.show()"
   ]
  },
  {
   "cell_type": "code",
   "execution_count": 33,
   "id": "8e6eb732",
   "metadata": {},
   "outputs": [
    {
     "name": "stderr",
     "output_type": "stream",
     "text": [
      "D:\\anaconda\\lib\\site-packages\\seaborn\\distributions.py:2619: FutureWarning: `distplot` is a deprecated function and will be removed in a future version. Please adapt your code to use either `displot` (a figure-level function with similar flexibility) or `histplot` (an axes-level function for histograms).\n",
      "  warnings.warn(msg, FutureWarning)\n"
     ]
    },
    {
     "data": {
      "image/png": "[encoded data removed]",
      "text/plain": [
       "<Figure size 720x360 with 1 Axes>"
      ]
     },
     "metadata": {
      "needs_background": "light"
     },
     "output_type": "display_data"
    }
   ],
   "source": [
    "fig, ax = plt.subplots(1,1,figsize = (10,5))\n",
    "sns.distplot(p_dataframe['actual_productivity'], bins = 10, ax = ax)\n",
    "plt.show()"
   ]
  },
  {
   "cell_type": "code",
   "execution_count": 34,
   "id": "17bb3d7f",
   "metadata": {},
   "outputs": [
    {
     "data": {
      "image/png": "[encoded data removed]",
      "text/plain": [
       "<Figure size 864x504 with 1 Axes>"
      ]
     },
     "metadata": {
      "needs_background": "light"
     },
     "output_type": "display_data"
    }
   ],
   "source": [
    "# import matplotlib.pyplot as plt\n",
    "fig_dims = (12,7)\n",
    "fig, ax = plt.subplots(figsize=fig_dims)\n",
    "sns.histplot(data=p_dataframe[['targeted_productivity', 'actual_productivity']],ax=ax)\n",
    "plt.show()"
   ]
  },
  {
   "cell_type": "code",
   "execution_count": 35,
   "id": "9ff6371a",
   "metadata": {},
   "outputs": [
    {
     "data": {
      "image/png": "[encoded data removed]",
      "text/plain": [
       "<Figure size 432x288 with 1 Axes>"
      ]
     },
     "metadata": {
      "needs_background": "light"
     },
     "output_type": "display_data"
    }
   ],
   "source": [
    "analysis = p_dataframe.groupby('day').agg(actual = ('actual_productivity','mean'), target = ('targeted_productivity', 'mean'))\n",
    "analysis.plot(kind='line', title=\"Target Productivity vs Actual Productivity\").legend(bbox_to_anchor= (1.02, 1));"
   ]
  },
  {
   "cell_type": "code",
   "execution_count": 36,
   "id": "d29fb984",
   "metadata": {},
   "outputs": [
    {
     "data": {
      "image/png": "[encoded data removed]",
      "text/plain": [
       "<Figure size 432x288 with 1 Axes>"
      ]
     },
     "metadata": {
      "needs_background": "light"
     },
     "output_type": "display_data"
    }
   ],
   "source": [
    "analysis = p_dataframe.groupby('quarter').agg(actual = ('actual_productivity','mean'), target = ('targeted_productivity', 'mean'))\n",
    "analysis.plot(kind='line', title=\"Target Productivity vs Actual Productivity\").legend(bbox_to_anchor= (1.02, 1));"
   ]
  },
  {
   "cell_type": "code",
   "execution_count": 37,
   "id": "8c5261df",
   "metadata": {},
   "outputs": [],
   "source": [
    "correlation = p_dataframe.corr()"
   ]
  },
  {
   "cell_type": "code",
   "execution_count": 38,
   "id": "a467dbe1",
   "metadata": {},
   "outputs": [
    {
     "data": {
      "text/plain": [
       "<AxesSubplot:>"
      ]
     },
     "execution_count": 38,
     "metadata": {},
     "output_type": "execute_result"
    },
    {
     "data": {
      "image/png": "[encoded data removed]",
      "text/plain": [
       "<Figure size 576x576 with 2 Axes>"
      ]
     },
     "metadata": {
      "needs_background": "light"
     },
     "output_type": "display_data"
    }
   ],
   "source": [
    "# create a heatmap \n",
    "plt.figure(figsize = (8,8))\n",
    "sns.heatmap(correlation, cbar=True, square=True, fmt = '.1f', annot=True, annot_kws={'size':8}, cmap = 'Reds')"
   ]
  },
  {
   "cell_type": "code",
   "execution_count": 39,
   "id": "6050889a",
   "metadata": {},
   "outputs": [
    {
     "data": {
      "text/plain": [
       "<function seaborn.matrix.heatmap(data, *, vmin=None, vmax=None, cmap=None, center=None, robust=False, annot=None, fmt='.2g', annot_kws=None, linewidths=0, linecolor='white', cbar=True, cbar_kws=None, cbar_ax=None, square=False, xticklabels='auto', yticklabels='auto', mask=None, ax=None, **kwargs)>"
      ]
     },
     "execution_count": 39,
     "metadata": {},
     "output_type": "execute_result"
    }
   ],
   "source": [
    "sns.heatmap"
   ]
  },
  {
   "cell_type": "code",
   "execution_count": 40,
   "id": "32b0b438",
   "metadata": {},
   "outputs": [],
   "source": [
    "from sklearn.preprocessing import MinMaxScaler\n",
    "cols_to_scale  = ['standard_minute_value', 'work_in_progress', 'overall_using_times', 'incentive_package_users', 'idle_time', 'idle_men','no_of_updated' ]\n",
    "min_max_scaler = MinMaxScaler()\n",
    "p_dataframe[cols_to_scale] = min_max_scaler.fit_transform(p_dataframe[cols_to_scale])"
   ]
  },
  {
   "cell_type": "code",
   "execution_count": 41,
   "id": "dd9cc9cf",
   "metadata": {},
   "outputs": [
    {
     "data": {
      "text/html": [
       "<div>\n",
       "<style scoped>\n",
       "    .dataframe tbody tr th:only-of-type {\n",
       "        vertical-align: middle;\n",
       "    }\n",
       "\n",
       "    .dataframe tbody tr th {\n",
       "        vertical-align: top;\n",
       "    }\n",
       "\n",
       "    .dataframe thead th {\n",
       "        text-align: right;\n",
       "    }\n",
       "</style>\n",
       "<table border=\"1\" class=\"dataframe\">\n",
       "  <thead>\n",
       "    <tr style=\"text-align: right;\">\n",
       "      <th></th>\n",
       "      <th>date</th>\n",
       "      <th>quarter</th>\n",
       "      <th>day</th>\n",
       "      <th>targeted_productivity</th>\n",
       "      <th>standard_minute_value</th>\n",
       "      <th>work_in_progress</th>\n",
       "      <th>overall_using_times</th>\n",
       "      <th>incentive_package_users</th>\n",
       "      <th>idle_time</th>\n",
       "      <th>idle_men</th>\n",
       "      <th>no_of_updated</th>\n",
       "      <th>actual_productivity</th>\n",
       "    </tr>\n",
       "  </thead>\n",
       "  <tbody>\n",
       "    <tr>\n",
       "      <th>0</th>\n",
       "      <td>01/01/2015</td>\n",
       "      <td>0</td>\n",
       "      <td>4</td>\n",
       "      <td>0.80</td>\n",
       "      <td>0.450252</td>\n",
       "      <td>0.047631</td>\n",
       "      <td>0.273148</td>\n",
       "      <td>0.027222</td>\n",
       "      <td>0.0</td>\n",
       "      <td>0.0</td>\n",
       "      <td>0.0</td>\n",
       "      <td>0.940725</td>\n",
       "    </tr>\n",
       "    <tr>\n",
       "      <th>1</th>\n",
       "      <td>01/01/2015</td>\n",
       "      <td>0</td>\n",
       "      <td>4</td>\n",
       "      <td>0.75</td>\n",
       "      <td>0.020132</td>\n",
       "      <td>0.051179</td>\n",
       "      <td>0.037037</td>\n",
       "      <td>0.000000</td>\n",
       "      <td>0.0</td>\n",
       "      <td>0.0</td>\n",
       "      <td>0.0</td>\n",
       "      <td>0.886500</td>\n",
       "    </tr>\n",
       "    <tr>\n",
       "      <th>2</th>\n",
       "      <td>01/01/2015</td>\n",
       "      <td>0</td>\n",
       "      <td>4</td>\n",
       "      <td>0.80</td>\n",
       "      <td>0.164731</td>\n",
       "      <td>0.041575</td>\n",
       "      <td>0.141204</td>\n",
       "      <td>0.013889</td>\n",
       "      <td>0.0</td>\n",
       "      <td>0.0</td>\n",
       "      <td>0.0</td>\n",
       "      <td>0.800570</td>\n",
       "    </tr>\n",
       "    <tr>\n",
       "      <th>3</th>\n",
       "      <td>01/01/2015</td>\n",
       "      <td>0</td>\n",
       "      <td>4</td>\n",
       "      <td>0.80</td>\n",
       "      <td>0.164731</td>\n",
       "      <td>0.041575</td>\n",
       "      <td>0.141204</td>\n",
       "      <td>0.013889</td>\n",
       "      <td>0.0</td>\n",
       "      <td>0.0</td>\n",
       "      <td>0.0</td>\n",
       "      <td>0.800570</td>\n",
       "    </tr>\n",
       "    <tr>\n",
       "      <th>4</th>\n",
       "      <td>01/01/2015</td>\n",
       "      <td>0</td>\n",
       "      <td>4</td>\n",
       "      <td>0.80</td>\n",
       "      <td>0.445219</td>\n",
       "      <td>0.050314</td>\n",
       "      <td>0.074074</td>\n",
       "      <td>0.013889</td>\n",
       "      <td>0.0</td>\n",
       "      <td>0.0</td>\n",
       "      <td>0.0</td>\n",
       "      <td>0.800382</td>\n",
       "    </tr>\n",
       "  </tbody>\n",
       "</table>\n",
       "</div>"
      ],
      "text/plain": [
       "         date  quarter  day  targeted_productivity  standard_minute_value  \\\n",
       "0  01/01/2015        0    4                   0.80               0.450252   \n",
       "1  01/01/2015        0    4                   0.75               0.020132   \n",
       "2  01/01/2015        0    4                   0.80               0.164731   \n",
       "3  01/01/2015        0    4                   0.80               0.164731   \n",
       "4  01/01/2015        0    4                   0.80               0.445219   \n",
       "\n",
       "   work_in_progress  overall_using_times  incentive_package_users  idle_time  \\\n",
       "0          0.047631             0.273148                 0.027222        0.0   \n",
       "1          0.051179             0.037037                 0.000000        0.0   \n",
       "2          0.041575             0.141204                 0.013889        0.0   \n",
       "3          0.041575             0.141204                 0.013889        0.0   \n",
       "4          0.050314             0.074074                 0.013889        0.0   \n",
       "\n",
       "   idle_men  no_of_updated  actual_productivity  \n",
       "0       0.0            0.0             0.940725  \n",
       "1       0.0            0.0             0.886500  \n",
       "2       0.0            0.0             0.800570  \n",
       "3       0.0            0.0             0.800570  \n",
       "4       0.0            0.0             0.800382  "
      ]
     },
     "execution_count": 41,
     "metadata": {},
     "output_type": "execute_result"
    }
   ],
   "source": [
    "p_dataframe.head()"
   ]
  },
  {
   "cell_type": "code",
   "execution_count": 42,
   "id": "66eb2b08",
   "metadata": {},
   "outputs": [],
   "source": [
    "X = p_dataframe.drop(['date','actual_productivity'],axis=1)\n",
    "Y = p_dataframe['actual_productivity']"
   ]
  },
  {
   "cell_type": "code",
   "execution_count": 43,
   "id": "4986d436",
   "metadata": {},
   "outputs": [
    {
     "data": {
      "text/html": [
       "<div>\n",
       "<style scoped>\n",
       "    .dataframe tbody tr th:only-of-type {\n",
       "        vertical-align: middle;\n",
       "    }\n",
       "\n",
       "    .dataframe tbody tr th {\n",
       "        vertical-align: top;\n",
       "    }\n",
       "\n",
       "    .dataframe thead th {\n",
       "        text-align: right;\n",
       "    }\n",
       "</style>\n",
       "<table border=\"1\" class=\"dataframe\">\n",
       "  <thead>\n",
       "    <tr style=\"text-align: right;\">\n",
       "      <th></th>\n",
       "      <th>quarter</th>\n",
       "      <th>day</th>\n",
       "      <th>targeted_productivity</th>\n",
       "      <th>standard_minute_value</th>\n",
       "      <th>work_in_progress</th>\n",
       "      <th>overall_using_times</th>\n",
       "      <th>incentive_package_users</th>\n",
       "      <th>idle_time</th>\n",
       "      <th>idle_men</th>\n",
       "      <th>no_of_updated</th>\n",
       "    </tr>\n",
       "  </thead>\n",
       "  <tbody>\n",
       "    <tr>\n",
       "      <th>897</th>\n",
       "      <td>3</td>\n",
       "      <td>1</td>\n",
       "      <td>0.70</td>\n",
       "      <td>0.307588</td>\n",
       "      <td>0.070690</td>\n",
       "      <td>0.231481</td>\n",
       "      <td>0.011111</td>\n",
       "      <td>0.0</td>\n",
       "      <td>0.0</td>\n",
       "      <td>0.5</td>\n",
       "    </tr>\n",
       "    <tr>\n",
       "      <th>183</th>\n",
       "      <td>1</td>\n",
       "      <td>0</td>\n",
       "      <td>0.80</td>\n",
       "      <td>0.487418</td>\n",
       "      <td>0.032663</td>\n",
       "      <td>0.406250</td>\n",
       "      <td>0.010556</td>\n",
       "      <td>0.0</td>\n",
       "      <td>0.0</td>\n",
       "      <td>0.0</td>\n",
       "    </tr>\n",
       "    <tr>\n",
       "      <th>305</th>\n",
       "      <td>2</td>\n",
       "      <td>0</td>\n",
       "      <td>0.80</td>\n",
       "      <td>0.450252</td>\n",
       "      <td>0.059442</td>\n",
       "      <td>0.141204</td>\n",
       "      <td>0.013889</td>\n",
       "      <td>0.0</td>\n",
       "      <td>0.0</td>\n",
       "      <td>0.0</td>\n",
       "    </tr>\n",
       "    <tr>\n",
       "      <th>313</th>\n",
       "      <td>2</td>\n",
       "      <td>0</td>\n",
       "      <td>0.80</td>\n",
       "      <td>0.000000</td>\n",
       "      <td>0.051179</td>\n",
       "      <td>0.055556</td>\n",
       "      <td>0.000000</td>\n",
       "      <td>0.0</td>\n",
       "      <td>0.0</td>\n",
       "      <td>0.0</td>\n",
       "    </tr>\n",
       "    <tr>\n",
       "      <th>472</th>\n",
       "      <td>3</td>\n",
       "      <td>2</td>\n",
       "      <td>0.65</td>\n",
       "      <td>0.235966</td>\n",
       "      <td>0.041921</td>\n",
       "      <td>0.009259</td>\n",
       "      <td>0.006389</td>\n",
       "      <td>0.0</td>\n",
       "      <td>0.0</td>\n",
       "      <td>0.0</td>\n",
       "    </tr>\n",
       "  </tbody>\n",
       "</table>\n",
       "</div>"
      ],
      "text/plain": [
       "     quarter  day  targeted_productivity  standard_minute_value  \\\n",
       "897        3    1                   0.70               0.307588   \n",
       "183        1    0                   0.80               0.487418   \n",
       "305        2    0                   0.80               0.450252   \n",
       "313        2    0                   0.80               0.000000   \n",
       "472        3    2                   0.65               0.235966   \n",
       "\n",
       "     work_in_progress  overall_using_times  incentive_package_users  \\\n",
       "897          0.070690             0.231481                 0.011111   \n",
       "183          0.032663             0.406250                 0.010556   \n",
       "305          0.059442             0.141204                 0.013889   \n",
       "313          0.051179             0.055556                 0.000000   \n",
       "472          0.041921             0.009259                 0.006389   \n",
       "\n",
       "     idle_time  idle_men  no_of_updated  \n",
       "897        0.0       0.0            0.5  \n",
       "183        0.0       0.0            0.0  \n",
       "305        0.0       0.0            0.0  \n",
       "313        0.0       0.0            0.0  \n",
       "472        0.0       0.0            0.0  "
      ]
     },
     "execution_count": 43,
     "metadata": {},
     "output_type": "execute_result"
    }
   ],
   "source": [
    "X.sample(5)"
   ]
  },
  {
   "cell_type": "code",
   "execution_count": null,
   "id": "fdf9a1ab",
   "metadata": {},
   "outputs": [],
   "source": []
  },
  {
   "cell_type": "code",
   "execution_count": 44,
   "id": "ea4b164e",
   "metadata": {},
   "outputs": [
    {
     "name": "stdout",
     "output_type": "stream",
     "text": [
      "      quarter  day  targeted_productivity  standard_minute_value  \\\n",
      "0           0    4                   0.80               0.450252   \n",
      "1           0    4                   0.75               0.020132   \n",
      "2           0    4                   0.80               0.164731   \n",
      "3           0    4                   0.80               0.164731   \n",
      "4           0    4                   0.80               0.445219   \n",
      "...       ...  ...                    ...                    ...   \n",
      "1192        1    3                   0.75               0.000000   \n",
      "1193        1    3                   0.70               0.019357   \n",
      "1194        1    3                   0.65               0.019357   \n",
      "1195        1    3                   0.75               0.000000   \n",
      "1196        1    3                   0.70               0.000000   \n",
      "\n",
      "      work_in_progress  overall_using_times  incentive_package_users  \\\n",
      "0             0.047631             0.273148                 0.027222   \n",
      "1             0.051179             0.037037                 0.000000   \n",
      "2             0.041575             0.141204                 0.013889   \n",
      "3             0.041575             0.141204                 0.013889   \n",
      "4             0.050314             0.074074                 0.013889   \n",
      "...                ...                  ...                      ...   \n",
      "1192          0.051179             0.037037                 0.000000   \n",
      "1193          0.051179             0.037037                 0.000000   \n",
      "1194          0.051179             0.037037                 0.000000   \n",
      "1195          0.051179             0.069444                 0.000000   \n",
      "1196          0.051179             0.027778                 0.000000   \n",
      "\n",
      "      idle_time  idle_men  no_of_updated  \n",
      "0           0.0       0.0            0.0  \n",
      "1           0.0       0.0            0.0  \n",
      "2           0.0       0.0            0.0  \n",
      "3           0.0       0.0            0.0  \n",
      "4           0.0       0.0            0.0  \n",
      "...         ...       ...            ...  \n",
      "1192        0.0       0.0            0.0  \n",
      "1193        0.0       0.0            0.0  \n",
      "1194        0.0       0.0            0.0  \n",
      "1195        0.0       0.0            0.0  \n",
      "1196        0.0       0.0            0.0  \n",
      "\n",
      "[1197 rows x 10 columns]\n"
     ]
    }
   ],
   "source": [
    "print(X)"
   ]
  },
  {
   "cell_type": "code",
   "execution_count": 45,
   "id": "9702db67",
   "metadata": {},
   "outputs": [
    {
     "data": {
      "text/plain": [
       "0    0.940725\n",
       "1    0.886500\n",
       "2    0.800570\n",
       "3    0.800570\n",
       "4    0.800382\n",
       "Name: actual_productivity, dtype: float64"
      ]
     },
     "execution_count": 45,
     "metadata": {},
     "output_type": "execute_result"
    }
   ],
   "source": [
    "Y.head(5)"
   ]
  },
  {
   "cell_type": "code",
   "execution_count": 46,
   "id": "10723fda",
   "metadata": {},
   "outputs": [],
   "source": [
    "from sklearn.preprocessing import StandardScaler\n",
    "scaler = StandardScaler()"
   ]
  },
  {
   "cell_type": "code",
   "execution_count": 47,
   "id": "55a1ea46",
   "metadata": {},
   "outputs": [
    {
     "data": {
      "text/plain": [
       "StandardScaler()"
      ]
     },
     "execution_count": 47,
     "metadata": {},
     "output_type": "execute_result"
    }
   ],
   "source": [
    "scaler.fit(X)"
   ]
  },
  {
   "cell_type": "code",
   "execution_count": 48,
   "id": "4d060e5c",
   "metadata": {},
   "outputs": [],
   "source": [
    "standardized_data = scaler.transform(X)"
   ]
  },
  {
   "cell_type": "code",
   "execution_count": 49,
   "id": "3b20f2ae",
   "metadata": {},
   "outputs": [
    {
     "name": "stdout",
     "output_type": "stream",
     "text": [
      "[[-1.15168784  0.90358619  0.71913683 ... -0.05747269 -0.11300466\n",
      "  -0.3516175 ]\n",
      " [-1.15168784  0.90358619  0.20815097 ... -0.05747269 -0.11300466\n",
      "  -0.3516175 ]\n",
      " [-1.15168784  0.90358619  0.71913683 ... -0.05747269 -0.11300466\n",
      "  -0.3516175 ]\n",
      " ...\n",
      " [-0.32866077  0.31319718 -0.81382076 ... -0.05747269 -0.11300466\n",
      "  -0.3516175 ]\n",
      " [-0.32866077  0.31319718  0.20815097 ... -0.05747269 -0.11300466\n",
      "  -0.3516175 ]\n",
      " [-0.32866077  0.31319718 -0.3028349  ... -0.05747269 -0.11300466\n",
      "  -0.3516175 ]]\n"
     ]
    }
   ],
   "source": [
    "print(standardized_data)"
   ]
  },
  {
   "cell_type": "code",
   "execution_count": 50,
   "id": "f31db299",
   "metadata": {},
   "outputs": [],
   "source": [
    "X = standardized_data\n",
    "Y = p_dataframe['actual_productivity']"
   ]
  },
  {
   "cell_type": "code",
   "execution_count": 51,
   "id": "5c7d9228",
   "metadata": {},
   "outputs": [],
   "source": [
    "X_train, X_test, Y_train, Y_test = train_test_split(X,Y, test_size = 0.3)"
   ]
  },
  {
   "cell_type": "code",
   "execution_count": 52,
   "id": "f35ad458",
   "metadata": {},
   "outputs": [
    {
     "name": "stdout",
     "output_type": "stream",
     "text": [
      "(1197, 10) (837, 10) (360, 10)\n"
     ]
    }
   ],
   "source": [
    "print(X.shape, X_train.shape, X_test.shape)"
   ]
  },
  {
   "cell_type": "code",
   "execution_count": 53,
   "id": "469f3f68",
   "metadata": {},
   "outputs": [],
   "source": [
    "input_shape = 10"
   ]
  },
  {
   "cell_type": "code",
   "execution_count": 54,
   "id": "aa475400",
   "metadata": {},
   "outputs": [],
   "source": [
    "metrics_Cal = pd.DataFrame(columns = [ 'Model Name','Mean Absolute Error','Mean Squared Error','R2 Squared Error'])\n",
    "def evaluate_model(model,Y_actual,Y_Predicted, df): \n",
    "    mae=metrics.mean_absolute_error(Y_actual, Y_Predicted)\n",
    "    mse=metrics.mean_squared_error(Y_actual, Y_Predicted)\n",
    "    r2 = metrics.r2_score(Y_actual, Y_Predicted)\n",
    "    df2 = {'Model Name':model,'Mean Absolute Error':mae,'Mean Squared Error':mse,'R2 Squared Error': r2}\n",
    "    df = df.append(df2, ignore_index = True)\n",
    "    return df"
   ]
  },
  {
   "cell_type": "code",
   "execution_count": 55,
   "id": "cbfa265e",
   "metadata": {},
   "outputs": [],
   "source": [
    "linear = LinearRegression()"
   ]
  },
  {
   "cell_type": "code",
   "execution_count": 56,
   "id": "232d98d8",
   "metadata": {},
   "outputs": [
    {
     "data": {
      "text/plain": [
       "LinearRegression()"
      ]
     },
     "execution_count": 56,
     "metadata": {},
     "output_type": "execute_result"
    }
   ],
   "source": [
    "linear.fit(X_train,Y_train)"
   ]
  },
  {
   "cell_type": "code",
   "execution_count": 57,
   "id": "dd9cfaee",
   "metadata": {},
   "outputs": [],
   "source": [
    "linear_predict = linear.predict(X_test)"
   ]
  },
  {
   "cell_type": "code",
   "execution_count": 58,
   "id": "11cfd03b",
   "metadata": {},
   "outputs": [
    {
     "name": "stdout",
     "output_type": "stream",
     "text": [
      "[0.77950831 0.57506198 0.79685284 0.79092243 0.81060201 0.65139297\n",
      " 2.4249754  0.72618742 0.6466439  0.75675286 0.45572576 0.68031183\n",
      " 0.80597456 0.75089269 0.69174274 0.80138806 0.74702932 0.78437522\n",
      " 0.78303039 0.78362279 0.80968676 0.69354315 0.77081524 0.79087233\n",
      " 0.64362604 0.22867188 0.80168057 0.80706962 0.77512067 0.75453127\n",
      " 0.72819083 0.71297488 0.78890662 0.79956291 0.72781862 0.74226261\n",
      " 0.70216622 0.73988237 0.75224895 0.69045408 0.7728908  0.67000853\n",
      " 0.69357685 0.73857049 0.63866288 0.63991196 0.71439307 0.78729147\n",
      " 0.7195816  0.78768945 0.80255437 0.75279625 0.75626498 0.72010891\n",
      " 0.78880599 0.77885139 0.7916229  0.72302976 0.79787966 0.72071175\n",
      " 0.77913204 0.73506092 0.73828693 0.77895751 0.16029189 0.7937576\n",
      " 0.4601703  0.69280307 0.80176768 0.714738   0.76353268 0.7004275\n",
      " 0.79537683 0.57237841 0.79714839 0.77175314 0.72351462 0.51806836\n",
      " 0.79721986 0.58824939 0.79228891 0.78517467 0.45414285 0.80577124\n",
      " 0.66452327 0.79776754 0.77536305 0.77154239 0.67800569 0.7637216\n",
      " 0.77314716 0.76544923 0.74096661 0.80748377 0.79811935 0.80802477\n",
      " 0.72675497 0.66051362 0.78594906 0.70388384 0.79235182 0.79328397\n",
      " 0.76353268 0.72761591 0.69350906 0.78798738 0.77938795 0.68637292\n",
      " 0.63951096 0.80856735 0.78711158 0.75751796 0.80712859 0.50421619\n",
      " 0.79568523 0.68154893 0.74957012 0.67265471 0.8024957  0.76651099\n",
      " 0.60469575 0.6970595  0.75352377 0.8099977  0.80269973 0.68039061\n",
      " 4.08691358 0.7471592  0.6112658  0.79972358 0.7194973  0.80619181\n",
      " 0.63866783 0.79545434 0.75598353 0.44670369 0.79543063 0.95858903\n",
      " 0.71538494 0.56268116 0.76258866 0.73431304 0.75644462 0.79239007\n",
      " 0.79417524 0.80168351 0.77141751 0.72091297 0.67794156 0.79711729\n",
      " 0.89124404 0.78969012 0.80927394 0.78365563 0.74715512 0.40519451\n",
      " 0.46352292 0.66592728 0.79658638 0.77466088 0.80052277 0.77985213\n",
      " 4.62570728 0.79609555 0.7961539  0.7604282  0.76214662 0.79423176\n",
      " 0.75290328 0.80789512 0.66427733 0.72301733 0.75806043 0.71619439\n",
      " 0.59387265 0.79393862 0.7966664  0.7758236  0.76412378 0.45534166\n",
      " 0.53806197 0.79875725 0.79577975 0.69267957 0.45255065 0.70888087\n",
      " 0.8001047  0.79642095 0.81896194 0.76544923 0.72089342 0.71617849\n",
      " 0.76581622 0.62463399 0.67788365 0.76315326 0.71242538 0.80738687\n",
      " 0.78981348 0.63625815 0.77970254 0.78702841 0.75762847 0.69898946\n",
      " 0.74421756 0.64158706 0.78409998 0.71125858 0.67966232 0.7645178\n",
      " 0.65981885 0.79752825 0.72444541 0.80049785 0.72033238 0.62933743\n",
      " 0.73360894 0.79557561 0.78841245 0.7970515  0.79747814 0.51828046\n",
      " 0.75295133 0.81089372 0.5169533  0.74374338 0.80235878 0.7427395\n",
      " 0.75761817 0.76752359 0.79107076 0.73535474 0.72242036 0.68789346\n",
      " 0.77403251 0.73040715 0.65737195 0.79251725 0.80408396 0.78227208\n",
      " 0.73065971 0.79264564 0.81088686 0.78026253 0.8176618  0.72342552\n",
      " 0.70942124 0.80206016 0.79718086 0.44793773 0.73807744 0.79619227\n",
      " 0.74560275 0.8088783  0.8058415  0.86588725 0.67630886 0.76360246\n",
      " 0.56578377 0.79437367 0.80033773 0.80765714 0.79031542 0.81093523\n",
      " 0.71701168 0.77471308 0.80240492 0.63231734 0.81543403 0.79481314\n",
      " 0.80095663 0.7126284  0.45070877 0.81717563 0.67614616 0.79033132\n",
      " 0.79594855 0.76229379 0.80382702 0.81147797 0.81198155 0.80866598\n",
      " 0.7686415  0.58826415 0.5310923  0.80233555 0.80778634 0.63168873\n",
      " 0.79989266 0.69520363 0.67800218 0.95054031 0.71884019 0.73579227\n",
      " 0.80715484 0.77077377 0.44732945 0.7728002  0.7828255  0.72879504\n",
      " 0.66053556 0.8076008  0.68118656 0.72288451 0.80723137 0.59495\n",
      " 0.71271331 0.80674567 0.77376712 0.76580828 0.78438127 0.79480361\n",
      " 0.8092715  0.74619884 0.59862403 0.70544984 0.73682536 0.57413475\n",
      " 0.82366879 0.81896194 0.76328549 0.79215143 0.24069591 0.76689616\n",
      " 0.70777726 0.58069046 0.76366867 0.63502824 0.74817018 0.78169813\n",
      " 0.56873034 0.79481644 0.63606771 0.74008851 0.80289845 0.5674963\n",
      " 0.73891631 0.76636785 0.38977877 0.79235182 0.76036675 0.78906042\n",
      " 0.75944158 0.721378   0.78761952 0.75414918 0.80198981 0.80141896\n",
      " 0.78830752 0.56257529 0.58206959 0.77163734 0.79742458 0.74651406\n",
      " 0.76628955 0.67524019 0.78796663 1.8419783  0.73819976 0.69591556]\n"
     ]
    }
   ],
   "source": [
    "print(linear_predict)"
   ]
  },
  {
   "cell_type": "code",
   "execution_count": 59,
   "id": "d43599b8",
   "metadata": {},
   "outputs": [
    {
     "name": "stderr",
     "output_type": "stream",
     "text": [
      "C:\\Users\\supun\\AppData\\Local\\Temp\\ipykernel_72\\2411393838.py:7: FutureWarning: The frame.append method is deprecated and will be removed from pandas in a future version. Use pandas.concat instead.\n",
      "  df = df.append(df2, ignore_index = True)\n"
     ]
    }
   ],
   "source": [
    "metrics_Cal = evaluate_model('Linear Regression', Y_test, linear_predict, metrics_Cal)"
   ]
  },
  {
   "cell_type": "code",
   "execution_count": 60,
   "id": "8d359eba",
   "metadata": {},
   "outputs": [
    {
     "name": "stdout",
     "output_type": "stream",
     "text": [
      "R squared Error :  -2.804874369485212\n"
     ]
    }
   ],
   "source": [
    "# getting R squred error\n",
    "error_score = metrics.r2_score(Y_test,linear_predict)\n",
    "print(\"R squared Error : \", error_score)"
   ]
  },
  {
   "cell_type": "code",
   "execution_count": 61,
   "id": "fa71b2b5",
   "metadata": {},
   "outputs": [
    {
     "data": {
      "text/html": [
       "<div>\n",
       "<style scoped>\n",
       "    .dataframe tbody tr th:only-of-type {\n",
       "        vertical-align: middle;\n",
       "    }\n",
       "\n",
       "    .dataframe tbody tr th {\n",
       "        vertical-align: top;\n",
       "    }\n",
       "\n",
       "    .dataframe thead th {\n",
       "        text-align: right;\n",
       "    }\n",
       "</style>\n",
       "<table border=\"1\" class=\"dataframe\">\n",
       "  <thead>\n",
       "    <tr style=\"text-align: right;\">\n",
       "      <th></th>\n",
       "      <th>Model Name</th>\n",
       "      <th>Mean Absolute Error</th>\n",
       "      <th>Mean Squared Error</th>\n",
       "      <th>R2 Squared Error</th>\n",
       "    </tr>\n",
       "  </thead>\n",
       "  <tbody>\n",
       "    <tr>\n",
       "      <th>0</th>\n",
       "      <td>Linear Regression</td>\n",
       "      <td>0.144373</td>\n",
       "      <td>0.125661</td>\n",
       "      <td>-2.804874</td>\n",
       "    </tr>\n",
       "  </tbody>\n",
       "</table>\n",
       "</div>"
      ],
      "text/plain": [
       "          Model Name Mean Absolute Error Mean Squared Error R2 Squared Error\n",
       "0  Linear Regression            0.144373           0.125661        -2.804874"
      ]
     },
     "execution_count": 61,
     "metadata": {},
     "output_type": "execute_result"
    }
   ],
   "source": [
    "metrics_Cal"
   ]
  },
  {
   "cell_type": "code",
   "execution_count": 62,
   "id": "75684fe9",
   "metadata": {},
   "outputs": [],
   "source": [
    "Y_test = list(Y_test)"
   ]
  },
  {
   "cell_type": "code",
   "execution_count": 63,
   "id": "e8aef9d2",
   "metadata": {},
   "outputs": [
    {
     "data": {
      "image/png": "[encoded data removed]",
      "text/plain": [
       "<Figure size 432x288 with 1 Axes>"
      ]
     },
     "metadata": {
      "needs_background": "light"
     },
     "output_type": "display_data"
    }
   ],
   "source": [
    "plt.plot(Y_test, color='red', label='Actual Value')\n",
    "plt.plot(linear_predict, color='green', label='Predicted Value')\n",
    "plt.title('Actual Value Vs Predicted Value')\n",
    "plt.xlabel('No of Values')\n",
    "plt.ylabel('actual_productivity')\n",
    "plt.legend()\n",
    "plt.show()"
   ]
  },
  {
   "cell_type": "code",
   "execution_count": 64,
   "id": "230f67c9",
   "metadata": {},
   "outputs": [],
   "source": [
    "DTree = DecisionTreeRegressor(random_state = 0)"
   ]
  },
  {
   "cell_type": "code",
   "execution_count": 65,
   "id": "d07de815",
   "metadata": {},
   "outputs": [
    {
     "data": {
      "text/plain": [
       "DecisionTreeRegressor(random_state=0)"
      ]
     },
     "execution_count": 65,
     "metadata": {},
     "output_type": "execute_result"
    }
   ],
   "source": [
    "DTree.fit(X_train,Y_train)"
   ]
  },
  {
   "cell_type": "code",
   "execution_count": 66,
   "id": "2c4fc1f3",
   "metadata": {},
   "outputs": [],
   "source": [
    "DTree_predict = DTree.predict(X_test)"
   ]
  },
  {
   "cell_type": "code",
   "execution_count": 67,
   "id": "49fc339d",
   "metadata": {},
   "outputs": [
    {
     "data": {
      "text/plain": [
       "DecisionTreeRegressor(random_state=0)"
      ]
     },
     "execution_count": 67,
     "metadata": {},
     "output_type": "execute_result"
    }
   ],
   "source": [
    "DTree.fit(X_train,Y_train)"
   ]
  },
  {
   "cell_type": "code",
   "execution_count": 68,
   "id": "2231fbb7",
   "metadata": {},
   "outputs": [],
   "source": [
    "DTree_predict = DTree.predict(X_test)"
   ]
  },
  {
   "cell_type": "code",
   "execution_count": 69,
   "id": "8aa27570",
   "metadata": {},
   "outputs": [
    {
     "name": "stdout",
     "output_type": "stream",
     "text": [
      "[0.66225589 0.60913826 0.75679167 0.99485    0.59061728 0.60029177\n",
      " 0.44996491 0.664875   0.70061403 0.70277778 0.994375   0.741\n",
      " 0.99953333 0.57646039 0.70005833 0.93916667 0.85044615 0.80033333\n",
      " 0.66225589 0.80031343 0.80016117 0.35553448 0.71262626 0.85316919\n",
      " 0.60036969 0.26369382 0.85050231 0.85050231 0.85061053 0.75034846\n",
      " 0.75028333 0.92885    0.96369949 0.89955556 0.70051357 0.6825\n",
      " 0.70009573 0.75065101 0.75065101 1.09663333 0.75064667 0.650134\n",
      " 0.7        0.75039551 0.65040752 0.602      0.75065172 0.80040196\n",
      " 0.80646875 0.8        0.60194444 0.65343137 0.75045066 0.70043672\n",
      " 0.90012976 0.49788506 0.85013677 0.258      0.80040196 0.75025487\n",
      " 0.80002056 0.97186667 0.75079701 0.81011111 0.50790323 1.00488889\n",
      " 0.80575    0.75029394 0.80038636 1.0115625  0.985      0.63771186\n",
      " 0.80031864 0.49998033 0.89155556 0.49788506 0.725625   0.80098039\n",
      " 0.64057765 0.60023977 0.80025096 0.95018596 0.35020649 0.90021572\n",
      " 0.60029177 0.80027383 0.96369949 0.79998285 0.63771186 0.7503719\n",
      " 0.80014414 0.74290124 0.80051107 0.64270833 0.84695076 0.68929924\n",
      " 0.6259375  0.70071042 0.8000345  0.75047368 0.38579167 0.80014097\n",
      " 0.985      0.325      0.75005736 0.80057895 0.79996322 0.35645833\n",
      " 0.31416667 0.99992424 0.85034513 0.96178451 0.81011111 0.59862745\n",
      " 0.85013677 0.70061823 0.93532197 0.70013404 0.65666667 1.00006579\n",
      " 0.32813158 0.75042593 0.92907407 0.64270833 0.80024675 0.65019865\n",
      " 0.30211735 0.70557658 0.456875   0.85013677 0.35645833 0.85013677\n",
      " 0.602      0.73276515 0.7503719  0.9422138  0.35041667 0.80038636\n",
      " 0.70061823 0.50003535 0.80062987 0.75017699 0.75034846 0.80040196\n",
      " 0.66164141 0.85013677 0.85050231 0.79997586 0.75003797 0.80016117\n",
      " 0.960625   0.38579167 0.80034377 1.05028058 0.75024303 0.35030172\n",
      " 0.994375   0.26117424 0.85013677 0.97186667 0.72263889 0.90047076\n",
      " 0.30211735 0.61625    0.80024675 0.95018596 0.82083333 0.95018596\n",
      " 0.85056949 0.8001171  0.81640625 0.70043672 0.74290124 0.456875\n",
      " 0.60007051 0.800125   0.95194444 0.90064806 0.985      0.994375\n",
      " 0.41517241 0.68106061 1.00488889 0.63861438 0.43799534 0.70042414\n",
      " 0.80012872 0.68755556 0.91052189 0.74290124 0.7005417  0.74918831\n",
      " 0.80035194 0.60023977 0.95890151 0.57646039 0.75003797 0.84073232\n",
      " 0.87644444 0.75927083 0.80031864 0.861875   0.97081667 0.70042414\n",
      " 0.75052012 0.60022985 0.90014152 0.700422   0.63771186 0.50459649\n",
      " 0.70045989 0.99485    0.65013095 0.80024675 0.75025487 0.65343137\n",
      " 0.70017039 0.99999524 1.00001855 0.80057049 0.8392399  0.39354885\n",
      " 0.80014865 0.90014725 0.28305449 0.75029394 0.64057765 0.85044615\n",
      " 0.881575   0.4078125  0.84506944 0.85858586 0.70061207 0.70051357\n",
      " 0.57831439 0.80009402 0.70060345 0.80040196 0.83476263 0.70557658\n",
      " 1.09663333 0.58204546 0.97186667 0.80001501 0.59074074 0.85858586\n",
      " 0.23370548 0.66732954 0.93951389 0.9422138  0.80064381 0.95311005\n",
      " 0.75024303 0.80012872 1.05028058 0.960625   0.70025177 0.80035194\n",
      " 0.50002507 0.84506944 0.33235931 0.78375    0.80031237 0.82680303\n",
      " 0.850045   0.85034513 0.85013677 0.950625   1.00023041 0.69204546\n",
      " 0.85061053 0.75922839 0.9422138  0.9217037  0.65004078 0.67666667\n",
      " 0.66164141 0.80098039 0.81011111 0.85695    0.99953333 0.67007576\n",
      " 0.43326316 0.60017284 0.39354885 1.00001855 0.80016117 0.38800781\n",
      " 0.96105903 0.75017699 0.7002366  0.90012976 0.74918831 0.80002056\n",
      " 0.80016117 0.59879234 0.43799534 0.85695    0.8        0.59862745\n",
      " 0.60043643 1.00023041 0.79675556 0.812625   0.96678135 0.60007051\n",
      " 0.75079944 0.88426136 0.90063244 0.85050231 0.85036458 0.90126263\n",
      " 0.8001171  0.88868687 0.70744643 0.69998442 0.75047368 0.40635417\n",
      " 0.92160494 0.91052189 0.81330903 0.62201705 0.70744643 1.05028058\n",
      " 0.7002568  0.86458333 0.78729969 0.86434259 0.70557658 0.80068437\n",
      " 0.86458333 0.87120265 0.65014815 0.75065101 0.3715625  0.92638889\n",
      " 0.65666667 0.63466667 0.44996491 0.38579167 0.75024303 1.00034493\n",
      " 0.80964015 0.91375    0.8865     0.80007184 0.919125   0.73882576\n",
      " 0.66760417 0.66068329 0.76884722 0.80007652 0.95311005 0.75024303\n",
      " 0.4078125  0.7        0.90012976 0.25139925 0.98719697 0.7505931 ]\n"
     ]
    }
   ],
   "source": [
    "print(DTree_predict)"
   ]
  },
  {
   "cell_type": "code",
   "execution_count": 70,
   "id": "429cd1ce",
   "metadata": {},
   "outputs": [
    {
     "name": "stderr",
     "output_type": "stream",
     "text": [
      "C:\\Users\\supun\\AppData\\Local\\Temp\\ipykernel_72\\2411393838.py:7: FutureWarning: The frame.append method is deprecated and will be removed from pandas in a future version. Use pandas.concat instead.\n",
      "  df = df.append(df2, ignore_index = True)\n"
     ]
    }
   ],
   "source": [
    "metrics_Cal = evaluate_model('Decision Tree Regressor', Y_test, DTree_predict, metrics_Cal)"
   ]
  },
  {
   "cell_type": "code",
   "execution_count": 71,
   "id": "fdb6baaa",
   "metadata": {},
   "outputs": [
    {
     "name": "stdout",
     "output_type": "stream",
     "text": [
      "R squared Error :  0.12835540000721835\n"
     ]
    }
   ],
   "source": [
    "# getting R squred error\n",
    "error_score = metrics.r2_score(Y_test,DTree_predict)\n",
    "print(\"R squared Error : \", error_score)"
   ]
  },
  {
   "cell_type": "code",
   "execution_count": 72,
   "id": "930c5930",
   "metadata": {},
   "outputs": [
    {
     "data": {
      "text/html": [
       "<div>\n",
       "<style scoped>\n",
       "    .dataframe tbody tr th:only-of-type {\n",
       "        vertical-align: middle;\n",
       "    }\n",
       "\n",
       "    .dataframe tbody tr th {\n",
       "        vertical-align: top;\n",
       "    }\n",
       "\n",
       "    .dataframe thead th {\n",
       "        text-align: right;\n",
       "    }\n",
       "</style>\n",
       "<table border=\"1\" class=\"dataframe\">\n",
       "  <thead>\n",
       "    <tr style=\"text-align: right;\">\n",
       "      <th></th>\n",
       "      <th>Model Name</th>\n",
       "      <th>Mean Absolute Error</th>\n",
       "      <th>Mean Squared Error</th>\n",
       "      <th>R2 Squared Error</th>\n",
       "    </tr>\n",
       "  </thead>\n",
       "  <tbody>\n",
       "    <tr>\n",
       "      <th>0</th>\n",
       "      <td>Linear Regression</td>\n",
       "      <td>0.144373</td>\n",
       "      <td>0.125661</td>\n",
       "      <td>-2.804874</td>\n",
       "    </tr>\n",
       "    <tr>\n",
       "      <th>1</th>\n",
       "      <td>Decision Tree Regressor</td>\n",
       "      <td>0.095471</td>\n",
       "      <td>0.028787</td>\n",
       "      <td>0.128355</td>\n",
       "    </tr>\n",
       "  </tbody>\n",
       "</table>\n",
       "</div>"
      ],
      "text/plain": [
       "                Model Name Mean Absolute Error Mean Squared Error  \\\n",
       "0        Linear Regression            0.144373           0.125661   \n",
       "1  Decision Tree Regressor            0.095471           0.028787   \n",
       "\n",
       "  R2 Squared Error  \n",
       "0        -2.804874  \n",
       "1         0.128355  "
      ]
     },
     "execution_count": 72,
     "metadata": {},
     "output_type": "execute_result"
    }
   ],
   "source": [
    "metrics_Cal"
   ]
  },
  {
   "cell_type": "code",
   "execution_count": 73,
   "id": "753fce92",
   "metadata": {},
   "outputs": [],
   "source": [
    "Y_test = list(Y_test)"
   ]
  },
  {
   "cell_type": "code",
   "execution_count": 74,
   "id": "19928bab",
   "metadata": {},
   "outputs": [
    {
     "data": {
      "image/png": "[encoded data removed]",
      "text/plain": [
       "<Figure size 432x288 with 1 Axes>"
      ]
     },
     "metadata": {
      "needs_background": "light"
     },
     "output_type": "display_data"
    }
   ],
   "source": [
    "plt.plot(Y_test, color='red', label='Actual Value')\n",
    "plt.plot(DTree_predict, color='green', label='Predicted Value')\n",
    "plt.title('Actual Value Vs Predicted Value')\n",
    "plt.xlabel('No of Values')\n",
    "plt.ylabel('actual_productivity')\n",
    "plt.legend()\n",
    "plt.show()"
   ]
  },
  {
   "cell_type": "code",
   "execution_count": 75,
   "id": "60521390",
   "metadata": {},
   "outputs": [],
   "source": [
    "RModel = RandomForestRegressor(n_estimators = 100)"
   ]
  },
  {
   "cell_type": "code",
   "execution_count": 76,
   "id": "e8a183e4",
   "metadata": {},
   "outputs": [
    {
     "data": {
      "text/plain": [
       "RandomForestRegressor()"
      ]
     },
     "execution_count": 76,
     "metadata": {},
     "output_type": "execute_result"
    }
   ],
   "source": [
    "RModel.fit(X_train,Y_train)"
   ]
  },
  {
   "cell_type": "code",
   "execution_count": 77,
   "id": "3424d3e1",
   "metadata": {},
   "outputs": [],
   "source": [
    "RModel_predict = RModel.predict(X_test)"
   ]
  },
  {
   "cell_type": "code",
   "execution_count": 78,
   "id": "a6b8247d",
   "metadata": {},
   "outputs": [
    {
     "name": "stdout",
     "output_type": "stream",
     "text": [
      "[0.8001029  0.78504804 0.67899455 0.90982844 0.62607649 0.57585839\n",
      " 0.39462073 0.69463875 0.68784367 0.67081937 0.90925669 0.66636503\n",
      " 0.88157253 0.55213036 0.44101208 0.89078735 0.8327324  0.80383542\n",
      " 0.61373752 0.80501941 0.79758765 0.45589827 0.74762937 0.83209243\n",
      " 0.55943104 0.35884503 0.8504977  0.84996473 0.85426759 0.75116\n",
      " 0.7520167  0.78399424 0.83889616 0.84097669 0.72683201 0.67795334\n",
      " 0.69604303 0.7268417  0.75189313 0.81390002 0.76661512 0.60359352\n",
      " 0.64162516 0.75626029 0.62835312 0.55031645 0.72207286 0.80039918\n",
      " 0.79346602 0.80067413 0.8126722  0.72635132 0.73518531 0.69987971\n",
      " 0.90016314 0.6939594  0.83616964 0.63749314 0.80089683 0.74116146\n",
      " 0.72737612 0.92065523 0.64622719 0.78894936 0.37359757 0.88339878\n",
      " 0.70076316 0.69676616 0.80543991 0.7443485  0.92118159 0.61093181\n",
      " 0.80225095 0.50434567 0.83754663 0.65707505 0.8439946  0.60514372\n",
      " 0.8012183  0.56210792 0.80058776 0.9607734  0.43482544 0.89078188\n",
      " 0.62098145 0.80276558 0.81796149 0.80144086 0.6008826  0.7269025\n",
      " 0.78305159 0.7635598  0.7885094  0.59073955 0.85255191 0.7107532\n",
      " 0.64655759 0.72159012 0.77981883 0.7474425  0.75018793 0.80111103\n",
      " 0.92118159 0.44265838 0.75728982 0.79736254 0.80109528 0.50688373\n",
      " 0.49239956 0.93098367 0.81796141 0.87395338 0.72538459 0.61556094\n",
      " 0.84115293 0.69602638 0.83138816 0.57393287 0.71243948 0.96742167\n",
      " 0.41357785 0.78793203 0.83116206 0.59668725 0.79797662 0.65565072\n",
      " 0.40806122 0.61715359 0.60885971 0.8414988  0.47794503 0.8349991\n",
      " 0.56020815 0.71899032 0.75090247 0.86106953 0.54689396 0.80519223\n",
      " 0.60392517 0.5095034  0.80991478 0.74824124 0.74947575 0.80040207\n",
      " 0.63965152 0.8361633  0.84976693 0.73961276 0.71795001 0.80068287\n",
      " 0.89626568 0.75585203 0.80155136 0.96038565 0.75034669 0.37099137\n",
      " 0.84303703 0.6585869  0.83901186 0.75584996 0.80432168 0.90049447\n",
      " 0.40135959 0.65813475 0.79892365 0.91782873 0.7336158  0.96055773\n",
      " 0.85040602 0.80099854 0.7557542  0.70071642 0.7635598  0.55107615\n",
      " 0.54190872 0.80634375 0.86918535 0.91264577 0.86257648 0.86241072\n",
      " 0.43199907 0.68800167 0.91809885 0.66422895 0.41761587 0.70760445\n",
      " 0.80433324 0.89470064 0.49633351 0.7635598  0.72296975 0.64736612\n",
      " 0.82316093 0.60899873 0.85770508 0.58216764 0.72859517 0.84583756\n",
      " 0.62723102 0.60312875 0.82980917 0.81911247 0.81755688 0.69603206\n",
      " 0.71102056 0.59391838 0.88579441 0.68455302 0.63500929 0.76819469\n",
      " 0.67012255 0.87196189 0.58178727 0.80026268 0.74317482 0.56735688\n",
      " 0.7021753  0.99482766 1.00112865 0.80045247 0.83524694 0.47010637\n",
      " 0.63404816 0.90066709 0.38895162 0.71815665 0.79757409 0.84123425\n",
      " 0.84838748 0.41834435 0.78846023 0.70546683 0.60123693 0.6745699\n",
      " 0.7171546  0.78327635 0.69641057 0.80254785 0.84767205 0.75641893\n",
      " 0.97155995 0.8127732  0.79992322 0.79699186 0.61794776 0.7636989\n",
      " 0.4417551  0.69802387 0.90901119 0.87074242 0.79744277 0.84624857\n",
      " 0.75028816 0.80469862 0.95397792 0.89626568 0.6146923  0.800658\n",
      " 0.47891832 0.82267864 0.50294968 0.8090407  0.79380179 0.84905094\n",
      " 0.80209615 0.64694148 0.8355154  0.76477468 0.9967567  0.69138058\n",
      " 0.85824309 0.68439823 0.85234682 0.85964305 0.64930048 0.73634592\n",
      " 0.78429334 0.73195422 0.78903181 0.88408604 0.85144938 0.67727611\n",
      " 0.63716383 0.61888477 0.47913731 1.00012752 0.78553584 0.47709316\n",
      " 0.84628872 0.73740647 0.6962848  0.89965075 0.66779851 0.78022914\n",
      " 0.79941649 0.67420028 0.42910642 0.88219771 0.79561885 0.60586032\n",
      " 0.56135458 0.99824978 0.87615645 0.78014753 0.92611536 0.54330792\n",
      " 0.74918669 0.87859715 0.90054456 0.85032739 0.86883102 0.74191813\n",
      " 0.8041467  0.80629518 0.57960763 0.69947    0.75388733 0.61369819\n",
      " 0.88050553 0.49633351 0.80272156 0.64286277 0.46000303 0.9223835\n",
      " 0.69591201 0.78921102 0.80599607 0.70053628 0.76287907 0.80705005\n",
      " 0.7144875  0.86948013 0.64599339 0.70668966 0.43493386 0.78733443\n",
      " 0.72180178 0.75543358 0.42690096 0.75018793 0.74841618 0.99489096\n",
      " 0.82535242 0.61387339 0.8838211  0.79539975 0.85389017 0.75066281\n",
      " 0.63780083 0.51901285 0.72893941 0.80755902 0.90649471 0.75004318\n",
      " 0.54734287 0.63179519 0.90016332 0.47636709 0.8287986  0.74551758]\n"
     ]
    }
   ],
   "source": [
    "print(RModel_predict)"
   ]
  },
  {
   "cell_type": "code",
   "execution_count": 79,
   "id": "d58763ac",
   "metadata": {},
   "outputs": [
    {
     "name": "stderr",
     "output_type": "stream",
     "text": [
      "C:\\Users\\supun\\AppData\\Local\\Temp\\ipykernel_72\\2411393838.py:7: FutureWarning: The frame.append method is deprecated and will be removed from pandas in a future version. Use pandas.concat instead.\n",
      "  df = df.append(df2, ignore_index = True)\n"
     ]
    }
   ],
   "source": [
    "metrics_Cal = evaluate_model('RandomForest Regressor', Y_test, RModel_predict, metrics_Cal)"
   ]
  },
  {
   "cell_type": "code",
   "execution_count": 80,
   "id": "9e7e87dc",
   "metadata": {},
   "outputs": [
    {
     "data": {
      "text/html": [
       "<div>\n",
       "<style scoped>\n",
       "    .dataframe tbody tr th:only-of-type {\n",
       "        vertical-align: middle;\n",
       "    }\n",
       "\n",
       "    .dataframe tbody tr th {\n",
       "        vertical-align: top;\n",
       "    }\n",
       "\n",
       "    .dataframe thead th {\n",
       "        text-align: right;\n",
       "    }\n",
       "</style>\n",
       "<table border=\"1\" class=\"dataframe\">\n",
       "  <thead>\n",
       "    <tr style=\"text-align: right;\">\n",
       "      <th></th>\n",
       "      <th>Model Name</th>\n",
       "      <th>Mean Absolute Error</th>\n",
       "      <th>Mean Squared Error</th>\n",
       "      <th>R2 Squared Error</th>\n",
       "    </tr>\n",
       "  </thead>\n",
       "  <tbody>\n",
       "    <tr>\n",
       "      <th>0</th>\n",
       "      <td>Linear Regression</td>\n",
       "      <td>0.144373</td>\n",
       "      <td>0.125661</td>\n",
       "      <td>-2.804874</td>\n",
       "    </tr>\n",
       "    <tr>\n",
       "      <th>1</th>\n",
       "      <td>Decision Tree Regressor</td>\n",
       "      <td>0.095471</td>\n",
       "      <td>0.028787</td>\n",
       "      <td>0.128355</td>\n",
       "    </tr>\n",
       "    <tr>\n",
       "      <th>2</th>\n",
       "      <td>RandomForest Regressor</td>\n",
       "      <td>0.074683</td>\n",
       "      <td>0.015032</td>\n",
       "      <td>0.544851</td>\n",
       "    </tr>\n",
       "  </tbody>\n",
       "</table>\n",
       "</div>"
      ],
      "text/plain": [
       "                Model Name Mean Absolute Error Mean Squared Error  \\\n",
       "0        Linear Regression            0.144373           0.125661   \n",
       "1  Decision Tree Regressor            0.095471           0.028787   \n",
       "2   RandomForest Regressor            0.074683           0.015032   \n",
       "\n",
       "  R2 Squared Error  \n",
       "0        -2.804874  \n",
       "1         0.128355  \n",
       "2         0.544851  "
      ]
     },
     "execution_count": 80,
     "metadata": {},
     "output_type": "execute_result"
    }
   ],
   "source": [
    "metrics_Cal"
   ]
  },
  {
   "cell_type": "code",
   "execution_count": 81,
   "id": "23d81677",
   "metadata": {},
   "outputs": [],
   "source": [
    "Y_test = list(Y_test)"
   ]
  },
  {
   "cell_type": "code",
   "execution_count": 82,
   "id": "b4180bec",
   "metadata": {},
   "outputs": [
    {
     "data": {
      "image/png": "[encoded data removed]",
      "text/plain": [
       "<Figure size 432x288 with 1 Axes>"
      ]
     },
     "metadata": {
      "needs_background": "light"
     },
     "output_type": "display_data"
    }
   ],
   "source": [
    "plt.plot(Y_test, color='red', label='Actual Value')\n",
    "plt.plot(RModel_predict, color='green', label='Predicted Value')\n",
    "plt.title('Actual Value Vs Predicted Value')\n",
    "plt.xlabel('No of Values')\n",
    "plt.ylabel('actual_productivity')\n",
    "plt.legend()\n",
    "plt.show()"
   ]
  },
  {
   "cell_type": "code",
   "execution_count": 83,
   "id": "daf17d2c",
   "metadata": {},
   "outputs": [],
   "source": [
    "svModel = SVR(C=25)"
   ]
  },
  {
   "cell_type": "code",
   "execution_count": 84,
   "id": "65eb7fa3",
   "metadata": {},
   "outputs": [
    {
     "data": {
      "text/plain": [
       "SVR(C=25)"
      ]
     },
     "execution_count": 84,
     "metadata": {},
     "output_type": "execute_result"
    }
   ],
   "source": [
    "svModel.fit(X_train,Y_train)"
   ]
  },
  {
   "cell_type": "code",
   "execution_count": 85,
   "id": "db390615",
   "metadata": {},
   "outputs": [],
   "source": [
    "svModel_predict = svModel.predict(X_test)"
   ]
  },
  {
   "cell_type": "code",
   "execution_count": 86,
   "id": "966420af",
   "metadata": {},
   "outputs": [
    {
     "name": "stderr",
     "output_type": "stream",
     "text": [
      "C:\\Users\\supun\\AppData\\Local\\Temp\\ipykernel_72\\2411393838.py:7: FutureWarning: The frame.append method is deprecated and will be removed from pandas in a future version. Use pandas.concat instead.\n",
      "  df = df.append(df2, ignore_index = True)\n"
     ]
    }
   ],
   "source": [
    "metrics_Cal = evaluate_model('Support Vector Regressor', Y_test, svModel_predict, metrics_Cal)"
   ]
  },
  {
   "cell_type": "code",
   "execution_count": 87,
   "id": "27d12fdc",
   "metadata": {},
   "outputs": [
    {
     "data": {
      "text/html": [
       "<div>\n",
       "<style scoped>\n",
       "    .dataframe tbody tr th:only-of-type {\n",
       "        vertical-align: middle;\n",
       "    }\n",
       "\n",
       "    .dataframe tbody tr th {\n",
       "        vertical-align: top;\n",
       "    }\n",
       "\n",
       "    .dataframe thead th {\n",
       "        text-align: right;\n",
       "    }\n",
       "</style>\n",
       "<table border=\"1\" class=\"dataframe\">\n",
       "  <thead>\n",
       "    <tr style=\"text-align: right;\">\n",
       "      <th></th>\n",
       "      <th>Model Name</th>\n",
       "      <th>Mean Absolute Error</th>\n",
       "      <th>Mean Squared Error</th>\n",
       "      <th>R2 Squared Error</th>\n",
       "    </tr>\n",
       "  </thead>\n",
       "  <tbody>\n",
       "    <tr>\n",
       "      <th>0</th>\n",
       "      <td>Linear Regression</td>\n",
       "      <td>0.144373</td>\n",
       "      <td>0.125661</td>\n",
       "      <td>-2.804874</td>\n",
       "    </tr>\n",
       "    <tr>\n",
       "      <th>1</th>\n",
       "      <td>Decision Tree Regressor</td>\n",
       "      <td>0.095471</td>\n",
       "      <td>0.028787</td>\n",
       "      <td>0.128355</td>\n",
       "    </tr>\n",
       "    <tr>\n",
       "      <th>2</th>\n",
       "      <td>RandomForest Regressor</td>\n",
       "      <td>0.074683</td>\n",
       "      <td>0.015032</td>\n",
       "      <td>0.544851</td>\n",
       "    </tr>\n",
       "    <tr>\n",
       "      <th>3</th>\n",
       "      <td>Support Vector Regressor</td>\n",
       "      <td>0.105072</td>\n",
       "      <td>0.022605</td>\n",
       "      <td>0.315543</td>\n",
       "    </tr>\n",
       "  </tbody>\n",
       "</table>\n",
       "</div>"
      ],
      "text/plain": [
       "                 Model Name Mean Absolute Error Mean Squared Error  \\\n",
       "0         Linear Regression            0.144373           0.125661   \n",
       "1   Decision Tree Regressor            0.095471           0.028787   \n",
       "2    RandomForest Regressor            0.074683           0.015032   \n",
       "3  Support Vector Regressor            0.105072           0.022605   \n",
       "\n",
       "  R2 Squared Error  \n",
       "0        -2.804874  \n",
       "1         0.128355  \n",
       "2         0.544851  \n",
       "3         0.315543  "
      ]
     },
     "execution_count": 87,
     "metadata": {},
     "output_type": "execute_result"
    }
   ],
   "source": [
    "metrics_Cal\n"
   ]
  },
  {
   "cell_type": "code",
   "execution_count": 88,
   "id": "5c2f08a1",
   "metadata": {},
   "outputs": [
    {
     "data": {
      "image/png": "[encoded data removed]",
      "text/plain": [
       "<Figure size 432x288 with 1 Axes>"
      ]
     },
     "metadata": {
      "needs_background": "light"
     },
     "output_type": "display_data"
    }
   ],
   "source": [
    "plt.plot(Y_test, color='red', label='Actual Value')\n",
    "plt.plot(svModel_predict, color='green', label='Predicted Value')\n",
    "plt.title('Actual Value Vs Predicted Value')\n",
    "plt.xlabel('No of Values')\n",
    "plt.ylabel('actual_productivity')\n",
    "plt.legend()\n",
    "plt.show()"
   ]
  },
  {
   "cell_type": "code",
   "execution_count": 89,
   "id": "0dac3001",
   "metadata": {},
   "outputs": [],
   "source": [
    "Summary_metrics = metrics_Cal.drop([], axis=0)"
   ]
  },
  {
   "cell_type": "code",
   "execution_count": 90,
   "id": "449a9045",
   "metadata": {},
   "outputs": [
    {
     "data": {
      "text/html": [
       "<div>\n",
       "<style scoped>\n",
       "    .dataframe tbody tr th:only-of-type {\n",
       "        vertical-align: middle;\n",
       "    }\n",
       "\n",
       "    .dataframe tbody tr th {\n",
       "        vertical-align: top;\n",
       "    }\n",
       "\n",
       "    .dataframe thead th {\n",
       "        text-align: right;\n",
       "    }\n",
       "</style>\n",
       "<table border=\"1\" class=\"dataframe\">\n",
       "  <thead>\n",
       "    <tr style=\"text-align: right;\">\n",
       "      <th></th>\n",
       "      <th>Model Name</th>\n",
       "      <th>Mean Absolute Error</th>\n",
       "      <th>Mean Squared Error</th>\n",
       "      <th>R2 Squared Error</th>\n",
       "    </tr>\n",
       "  </thead>\n",
       "  <tbody>\n",
       "    <tr>\n",
       "      <th>0</th>\n",
       "      <td>Linear Regression</td>\n",
       "      <td>0.144373</td>\n",
       "      <td>0.125661</td>\n",
       "      <td>-2.804874</td>\n",
       "    </tr>\n",
       "    <tr>\n",
       "      <th>1</th>\n",
       "      <td>Decision Tree Regressor</td>\n",
       "      <td>0.095471</td>\n",
       "      <td>0.028787</td>\n",
       "      <td>0.128355</td>\n",
       "    </tr>\n",
       "    <tr>\n",
       "      <th>2</th>\n",
       "      <td>RandomForest Regressor</td>\n",
       "      <td>0.074683</td>\n",
       "      <td>0.015032</td>\n",
       "      <td>0.544851</td>\n",
       "    </tr>\n",
       "    <tr>\n",
       "      <th>3</th>\n",
       "      <td>Support Vector Regressor</td>\n",
       "      <td>0.105072</td>\n",
       "      <td>0.022605</td>\n",
       "      <td>0.315543</td>\n",
       "    </tr>\n",
       "  </tbody>\n",
       "</table>\n",
       "</div>"
      ],
      "text/plain": [
       "                 Model Name Mean Absolute Error Mean Squared Error  \\\n",
       "0         Linear Regression            0.144373           0.125661   \n",
       "1   Decision Tree Regressor            0.095471           0.028787   \n",
       "2    RandomForest Regressor            0.074683           0.015032   \n",
       "3  Support Vector Regressor            0.105072           0.022605   \n",
       "\n",
       "  R2 Squared Error  \n",
       "0        -2.804874  \n",
       "1         0.128355  \n",
       "2         0.544851  \n",
       "3         0.315543  "
      ]
     },
     "execution_count": 90,
     "metadata": {},
     "output_type": "execute_result"
    }
   ],
   "source": [
    "Summary_metrics"
   ]
  },
  {
   "cell_type": "code",
   "execution_count": 91,
   "id": "46195ba2",
   "metadata": {},
   "outputs": [],
   "source": [
    "plot_dset = Summary_metrics"
   ]
  },
  {
   "cell_type": "code",
   "execution_count": 92,
   "id": "42c7a9a8",
   "metadata": {},
   "outputs": [
    {
     "data": {
      "text/plain": [
       "(array([0, 1, 2, 3]),\n",
       " [Text(0, 0, 'Linear Regression'),\n",
       "  Text(1, 0, 'Decision Tree Regressor'),\n",
       "  Text(2, 0, 'RandomForest Regressor'),\n",
       "  Text(3, 0, 'Support Vector Regressor')])"
      ]
     },
     "execution_count": 92,
     "metadata": {},
     "output_type": "execute_result"
    },
    {
     "data": {
      "image/png": "[encoded data removed]",
      "text/plain": [
       "<Figure size 720x360 with 1 Axes>"
      ]
     },
     "metadata": {
      "needs_background": "light"
     },
     "output_type": "display_data"
    }
   ],
   "source": [
    "plt.figure(figsize=(10, 5))\n",
    "sns.set_theme(style=\"whitegrid\")\n",
    "ax = sns.barplot(x=\"Model Name\", y=\"R2 Squared Error\", data=plot_dset)\n",
    "plt.xticks(rotation=90)"
   ]
  },
  {
   "cell_type": "code",
   "execution_count": 93,
   "id": "aca9f6cf",
   "metadata": {},
   "outputs": [
    {
     "name": "stdout",
     "output_type": "stream",
     "text": [
      "Your Productivity = [0.60611468]\n"
     ]
    }
   ],
   "source": [
    "input_data = (1,3,0.75,2.9,1190.0,960,0,0.0,0,0)\n",
    "\n",
    "#changing the input data to numpy array\n",
    "input_data_as_numpy_array = np.asarray(input_data)\n",
    "\n",
    "# reshape the array as we are predicting for one instance\n",
    "input_data_reshaped = input_data_as_numpy_array.reshape(1,-1)\n",
    "\n",
    "# standardize the input data\n",
    "#std_data = scaler.transform(input_data_reshaped)\n",
    "\n",
    "prediction = RModel.predict(input_data_reshaped)\n",
    "print('Your Productivity =',prediction)"
   ]
  },
  {
   "cell_type": "code",
   "execution_count": 94,
   "id": "0bdc21ee",
   "metadata": {},
   "outputs": [],
   "source": [
    "!mkdir saved_models"
   ]
  },
  {
   "cell_type": "code",
   "execution_count": 111,
   "id": "df8cc74e",
   "metadata": {},
   "outputs": [],
   "source": [
    "from joblib import dump"
   ]
  },
  {
   "cell_type": "code",
   "execution_count": 112,
   "id": "15cb83cc",
   "metadata": {},
   "outputs": [
    {
     "data": {
      "text/plain": [
       "['./saved_models/model.joblib']"
      ]
     },
     "execution_count": 112,
     "metadata": {},
     "output_type": "execute_result"
    }
   ],
   "source": [
    "dump(RModel, './saved_models/model.joblib')"
   ]
  }
 ],
 "metadata": {
  "kernelspec": {
   "display_name": "Python 3 (ipykernel)",
   "language": "python",
   "name": "python3"
  },
  "language_info": {
   "codemirror_mode": {
    "name": "ipython",
    "version": 3
   },
   "file_extension": ".py",
   "mimetype": "text/x-python",
   "name": "python",
   "nbconvert_exporter": "python",
   "pygments_lexer": "ipython3",
   "version": "3.9.12"
  }
 },
 "nbformat": 4,
 "nbformat_minor": 5
}
